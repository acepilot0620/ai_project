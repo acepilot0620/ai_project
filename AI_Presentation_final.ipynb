{
 "cells": [
  {
   "cell_type": "markdown",
   "metadata": {
    "id": "auu_yUgd6RSe"
   },
   "source": [
    "# [AI] FInal Presentation  \n",
    "## Team 2: Choi Jungho, Kim Hayoon  \n",
    "\n",
    "\n",
    "---\n",
    "\n"
   ]
  },
  {
   "cell_type": "markdown",
   "metadata": {
    "id": "O6J-inG7fR-q"
   },
   "source": [
    "# 1. Motivation"
   ]
  },
  {
   "cell_type": "markdown",
   "metadata": {
    "id": "tFYTeeIxkd-1"
   },
   "source": [
    "# (1) Importance of Car Classification\n",
    "### Cars have various properties\n",
    "* 1st Class: segment of cars; A segment, B segment, C segment, ..\n",
    "* 2nd Class: brand; BMW, Benz, Audi ..   \n",
    "* 3rd Class: model of cars; BMW 3 series, 5 series, 7 series ..  \n",
    "* Detaied Class\n",
    " * external appearance: year, color, trim\n",
    " * part: front bumper, tire, A pillar, side mirror, front door, rear door, head lamp, rear lamp, bonnet, trunk, roof .. \n",
    "\n",
    "Because of these various attributes, it is difficult for people to distinguish themselves.  \n",
    "Nowadays, car classification are becoming more important for traffic control, traffic analysis, and identification of stolen and criminal cars. \n",
    "\n"
   ]
  },
  {
   "cell_type": "markdown",
   "metadata": {
    "id": "7zhYNH2bl_29"
   },
   "source": [
    "## (2) Related Work\n",
    "\n",
    "1. A study on large classification(1st Class) of cars\n",
    "* 김청하 박구만(2019): Classify into 3 categories, car, truck, bus\n",
    "* 안호연 이종택(2019) Classify into 8 catogories, big truck, middle trunck, small truck, sedan, compact car, suv, ban\n",
    "* 김정훈, 최두현(2019): Classify into 3 categories, sedan, van, truck\n",
    "* 정유석, 정도영(2020): Classify sedan (1종 차량) and general truck (3종 차량)\n",
    "2. A study on the detailed classification(Detailed Class) of cars\n",
    "* 이창복 조현종(2020): Classify 100 model of cars in the diffenrent brand\n",
    "* 이승주 박구만(2020): Classify specific model (G80 RG3) class\n",
    "\n",
    "\n",
    "✔️ In the case of detailed classification of cars, accuracy tends to be less than that of large classification of cars.\n"
   ]
  },
  {
   "cell_type": "markdown",
   "metadata": {
    "id": "4K-q8waM2gta"
   },
   "source": [
    "## (3) Family Look\n",
    ": Unifying brand identity and desion in a similar way rather than just one cars.\n",
    "Multiple models of a brand share design features as if they were a family, forming an image of brand.  \n",
    "### *Assumption: If we consider the Family Look and divide cars by brand, it will be an effective classification.*"
   ]
  },
  {
   "cell_type": "markdown",
   "metadata": {
    "id": "monIzV-J5U0i"
   },
   "source": [
    "[Figure 1. Family Look of BMW]  \n",
    "<img src = \"https://drive.google.com/uc?id=1pJSjm_uaPxAqGf6dQohgyGU9YZKOpoXg\" height = 400 width = 400>"
   ]
  },
  {
   "cell_type": "markdown",
   "metadata": {},
   "source": [
    "[Figure 1. Family Look of Genesis]  \n",
    "<img src = \"https://img1.daumcdn.net/thumb/S720x440ht.u/?fname=%2Fmedia%2Fvitraya%2Fauto%2Fimage%2Fae93ff%2FBBDE76075E3AF8918FDC76BD77D675E727859A23645A4E89FA_2HOH&scode=media\" height = 400 width = 400>\n",
    "<img src = \"https://www.genesis.com/content/dam/genesis-p2/kr/assets/utility/sns/genesis-kr-model-g80-02-social-1200x630-ko.jpg\" height = 400 width = 400>\n",
    "<img src = \"https://cdn.top-rider.com/news/photo/202204/62119_138763_3319.jpg\" height = 400 width = 400>"
   ]
  },
  {
   "cell_type": "markdown",
   "metadata": {
    "id": "jBk4JzTwiy5f"
   },
   "source": [
    "# 2. Description of the data"
   ]
  },
  {
   "cell_type": "markdown",
   "metadata": {
    "id": "9n_Xqd0b6gXv"
   },
   "source": [
    "## Using car appearance image data provided by AI-Hub  \n",
    "[Figure 2. Data Description]  \n",
    "<img src = \"https://drive.google.com/uc?id=12H9WFh2RfXNdDRiJCT_aqtCr5-R6bJKn\" height = 350 width = 600>"
   ]
  },
  {
   "cell_type": "markdown",
   "metadata": {
    "id": "v6-CkCSl7E5C"
   },
   "source": [
    "* Collect 3,099 cars of 100 types, build 322,664 car appearance learning data   \n",
    "* AI learning dataset that identifies car appearance(car type, model, color, trim) and 14 parts(front bumper, rear bumper, tire, A pillar, C pillar, side mirror, front door, rear door, radiator grille, head lamp, rear lamp, bonnet, trunk, roof)   \n",
    "* Source data: Image data(jpg) extracted from raw data(mp4) showing 360 degree of car appearance  \n",
    "* Label data: Data for bounding box processing for the entire appearance on source data(jpg) and data for bounding box processing for 14 parts(JSON)"
   ]
  },
  {
   "cell_type": "code",
   "execution_count": null,
   "metadata": {
    "id": "34H1-9KMi6kH"
   },
   "outputs": [],
   "source": [
    "# data 설명"
   ]
  },
  {
   "cell_type": "markdown",
   "metadata": {
    "id": "xoEfxR8ui64D"
   },
   "source": [
    "# 3. Hyperparameter & Architecture"
   ]
  },
  {
   "cell_type": "markdown",
   "metadata": {
    "id": "xGXcPhC9jb-d"
   },
   "source": [
    "## (1) Data Preprocessing\n"
   ]
  },
  {
   "cell_type": "code",
   "execution_count": 2,
   "metadata": {
    "id": "2MAQP1aKBtbA"
   },
   "outputs": [],
   "source": [
    "# code v1과 v3의 공통 부분\n",
    "#  (1) 데이터 로드\n",
    "#  (2) trainig data, validation data, test data를 8:1:1로 나누기\n",
    "import os\n",
    "import splitfolders\n",
    "\n",
    "# splitfolders.ratio(input_dest, output=base_dir, seed=1200, ratio=(.8, .1, .1))\n",
    "\n",
    "base_dir = os.path.dirname(os.path.abspath(\"__file__\"))\n",
    "train_dir = os.path.join(base_dir, 'training')\n",
    "validation_dir = os.path.join(base_dir, 'validation')\n",
    "test_dir = os.path.join(base_dir, 'test')"
   ]
  },
  {
   "cell_type": "code",
   "execution_count": 3,
   "metadata": {},
   "outputs": [
    {
     "name": "stdout",
     "output_type": "stream",
     "text": [
      "Found 213820 images belonging to 11 classes.\n",
      "Found 27082 images belonging to 11 classes.\n"
     ]
    }
   ],
   "source": [
    "# 이미지 처리용 라이브러리\n",
    "from tensorflow.keras.preprocessing.image import ImageDataGenerator # 전처리\n",
    "\n",
    "# 0~1 사이값으로 픽셀값을 변환\n",
    "train_datagen = ImageDataGenerator(rescale=1./255)\n",
    "validation_datagen = ImageDataGenerator(rescale=1./255)\n",
    "\n",
    "# 이미지 전처리\n",
    "# 폴더에 있는 이미지를 전처리\n",
    "train_generator = train_datagen.flow_from_directory(train_dir,\n",
    "                                                    target_size=(150,150),\n",
    "                                                    batch_size=20,\n",
    "                                                    class_mode='categorical')\n",
    "\n",
    "validation_generator = validation_datagen.flow_from_directory(validation_dir,\n",
    "                                                        target_size=(150,150),\n",
    "                                                        batch_size=20,\n",
    "                                                        class_mode='categorical')"
   ]
  },
  {
   "cell_type": "code",
   "execution_count": 8,
   "metadata": {},
   "outputs": [
    {
     "data": {
      "text/plain": [
       "{'AU_아우디': 0,\n",
       " 'BE_벤츠': 1,\n",
       " 'BM_BMW': 2,\n",
       " 'CH_쉐보레': 3,\n",
       " 'FO_포드': 4,\n",
       " 'GE_제네시스': 5,\n",
       " 'HO_혼다': 6,\n",
       " 'HY_현대': 7,\n",
       " 'JE_지프': 8,\n",
       " 'KG_한국지엠': 9,\n",
       " 'KI_기아': 10}"
      ]
     },
     "execution_count": 8,
     "metadata": {},
     "output_type": "execute_result"
    }
   ],
   "source": [
    "# 라벨 이름 목록\n",
    "labels_list = train_generator.class_indices\n",
    "labels_list"
   ]
  },
  {
   "cell_type": "markdown",
   "metadata": {
    "id": "alH8YNqWjuc0"
   },
   "source": [
    "## (2) First Model"
   ]
  },
  {
   "cell_type": "code",
   "execution_count": 7,
   "metadata": {
    "id": "MF2ZUtqPjFkj"
   },
   "outputs": [
    {
     "name": "stdout",
     "output_type": "stream",
     "text": [
      "Model: \"resnet50\"\n",
      "__________________________________________________________________________________________________\n",
      " Layer (type)                   Output Shape         Param #     Connected to                     \n",
      "==================================================================================================\n",
      " input_3 (InputLayer)           [(None, 150, 150, 3  0           []                               \n",
      "                                )]                                                                \n",
      "                                                                                                  \n",
      " conv1_pad (ZeroPadding2D)      (None, 156, 156, 3)  0           ['input_3[0][0]']                \n",
      "                                                                                                  \n",
      " conv1_conv (Conv2D)            (None, 75, 75, 64)   9472        ['conv1_pad[0][0]']              \n",
      "                                                                                                  \n",
      " conv1_bn (BatchNormalization)  (None, 75, 75, 64)   256         ['conv1_conv[0][0]']             \n",
      "                                                                                                  \n",
      " conv1_relu (Activation)        (None, 75, 75, 64)   0           ['conv1_bn[0][0]']               \n",
      "                                                                                                  \n",
      " pool1_pad (ZeroPadding2D)      (None, 77, 77, 64)   0           ['conv1_relu[0][0]']             \n",
      "                                                                                                  \n",
      " pool1_pool (MaxPooling2D)      (None, 38, 38, 64)   0           ['pool1_pad[0][0]']              \n",
      "                                                                                                  \n",
      " conv2_block1_1_conv (Conv2D)   (None, 38, 38, 64)   4160        ['pool1_pool[0][0]']             \n",
      "                                                                                                  \n",
      " conv2_block1_1_bn (BatchNormal  (None, 38, 38, 64)  256         ['conv2_block1_1_conv[0][0]']    \n",
      " ization)                                                                                         \n",
      "                                                                                                  \n",
      " conv2_block1_1_relu (Activatio  (None, 38, 38, 64)  0           ['conv2_block1_1_bn[0][0]']      \n",
      " n)                                                                                               \n",
      "                                                                                                  \n",
      " conv2_block1_2_conv (Conv2D)   (None, 38, 38, 64)   36928       ['conv2_block1_1_relu[0][0]']    \n",
      "                                                                                                  \n",
      " conv2_block1_2_bn (BatchNormal  (None, 38, 38, 64)  256         ['conv2_block1_2_conv[0][0]']    \n",
      " ization)                                                                                         \n",
      "                                                                                                  \n",
      " conv2_block1_2_relu (Activatio  (None, 38, 38, 64)  0           ['conv2_block1_2_bn[0][0]']      \n",
      " n)                                                                                               \n",
      "                                                                                                  \n",
      " conv2_block1_0_conv (Conv2D)   (None, 38, 38, 256)  16640       ['pool1_pool[0][0]']             \n",
      "                                                                                                  \n",
      " conv2_block1_3_conv (Conv2D)   (None, 38, 38, 256)  16640       ['conv2_block1_2_relu[0][0]']    \n",
      "                                                                                                  \n",
      " conv2_block1_0_bn (BatchNormal  (None, 38, 38, 256)  1024       ['conv2_block1_0_conv[0][0]']    \n",
      " ization)                                                                                         \n",
      "                                                                                                  \n",
      " conv2_block1_3_bn (BatchNormal  (None, 38, 38, 256)  1024       ['conv2_block1_3_conv[0][0]']    \n",
      " ization)                                                                                         \n",
      "                                                                                                  \n",
      " conv2_block1_add (Add)         (None, 38, 38, 256)  0           ['conv2_block1_0_bn[0][0]',      \n",
      "                                                                  'conv2_block1_3_bn[0][0]']      \n",
      "                                                                                                  \n",
      " conv2_block1_out (Activation)  (None, 38, 38, 256)  0           ['conv2_block1_add[0][0]']       \n",
      "                                                                                                  \n",
      " conv2_block2_1_conv (Conv2D)   (None, 38, 38, 64)   16448       ['conv2_block1_out[0][0]']       \n",
      "                                                                                                  \n",
      " conv2_block2_1_bn (BatchNormal  (None, 38, 38, 64)  256         ['conv2_block2_1_conv[0][0]']    \n",
      " ization)                                                                                         \n",
      "                                                                                                  \n",
      " conv2_block2_1_relu (Activatio  (None, 38, 38, 64)  0           ['conv2_block2_1_bn[0][0]']      \n",
      " n)                                                                                               \n",
      "                                                                                                  \n",
      " conv2_block2_2_conv (Conv2D)   (None, 38, 38, 64)   36928       ['conv2_block2_1_relu[0][0]']    \n",
      "                                                                                                  \n",
      " conv2_block2_2_bn (BatchNormal  (None, 38, 38, 64)  256         ['conv2_block2_2_conv[0][0]']    \n",
      " ization)                                                                                         \n",
      "                                                                                                  \n",
      " conv2_block2_2_relu (Activatio  (None, 38, 38, 64)  0           ['conv2_block2_2_bn[0][0]']      \n",
      " n)                                                                                               \n",
      "                                                                                                  \n",
      " conv2_block2_3_conv (Conv2D)   (None, 38, 38, 256)  16640       ['conv2_block2_2_relu[0][0]']    \n",
      "                                                                                                  \n",
      " conv2_block2_3_bn (BatchNormal  (None, 38, 38, 256)  1024       ['conv2_block2_3_conv[0][0]']    \n",
      " ization)                                                                                         \n",
      "                                                                                                  \n",
      " conv2_block2_add (Add)         (None, 38, 38, 256)  0           ['conv2_block1_out[0][0]',       \n",
      "                                                                  'conv2_block2_3_bn[0][0]']      \n",
      "                                                                                                  \n",
      " conv2_block2_out (Activation)  (None, 38, 38, 256)  0           ['conv2_block2_add[0][0]']       \n",
      "                                                                                                  \n",
      " conv2_block3_1_conv (Conv2D)   (None, 38, 38, 64)   16448       ['conv2_block2_out[0][0]']       \n",
      "                                                                                                  \n",
      " conv2_block3_1_bn (BatchNormal  (None, 38, 38, 64)  256         ['conv2_block3_1_conv[0][0]']    \n",
      " ization)                                                                                         \n",
      "                                                                                                  \n",
      " conv2_block3_1_relu (Activatio  (None, 38, 38, 64)  0           ['conv2_block3_1_bn[0][0]']      \n",
      " n)                                                                                               \n",
      "                                                                                                  \n"
     ]
    },
    {
     "name": "stdout",
     "output_type": "stream",
     "text": [
      " conv2_block3_2_conv (Conv2D)   (None, 38, 38, 64)   36928       ['conv2_block3_1_relu[0][0]']    \n",
      "                                                                                                  \n",
      " conv2_block3_2_bn (BatchNormal  (None, 38, 38, 64)  256         ['conv2_block3_2_conv[0][0]']    \n",
      " ization)                                                                                         \n",
      "                                                                                                  \n",
      " conv2_block3_2_relu (Activatio  (None, 38, 38, 64)  0           ['conv2_block3_2_bn[0][0]']      \n",
      " n)                                                                                               \n",
      "                                                                                                  \n",
      " conv2_block3_3_conv (Conv2D)   (None, 38, 38, 256)  16640       ['conv2_block3_2_relu[0][0]']    \n",
      "                                                                                                  \n",
      " conv2_block3_3_bn (BatchNormal  (None, 38, 38, 256)  1024       ['conv2_block3_3_conv[0][0]']    \n",
      " ization)                                                                                         \n",
      "                                                                                                  \n",
      " conv2_block3_add (Add)         (None, 38, 38, 256)  0           ['conv2_block2_out[0][0]',       \n",
      "                                                                  'conv2_block3_3_bn[0][0]']      \n",
      "                                                                                                  \n",
      " conv2_block3_out (Activation)  (None, 38, 38, 256)  0           ['conv2_block3_add[0][0]']       \n",
      "                                                                                                  \n",
      " conv3_block1_1_conv (Conv2D)   (None, 19, 19, 128)  32896       ['conv2_block3_out[0][0]']       \n",
      "                                                                                                  \n",
      " conv3_block1_1_bn (BatchNormal  (None, 19, 19, 128)  512        ['conv3_block1_1_conv[0][0]']    \n",
      " ization)                                                                                         \n",
      "                                                                                                  \n",
      " conv3_block1_1_relu (Activatio  (None, 19, 19, 128)  0          ['conv3_block1_1_bn[0][0]']      \n",
      " n)                                                                                               \n",
      "                                                                                                  \n",
      " conv3_block1_2_conv (Conv2D)   (None, 19, 19, 128)  147584      ['conv3_block1_1_relu[0][0]']    \n",
      "                                                                                                  \n",
      " conv3_block1_2_bn (BatchNormal  (None, 19, 19, 128)  512        ['conv3_block1_2_conv[0][0]']    \n",
      " ization)                                                                                         \n",
      "                                                                                                  \n",
      " conv3_block1_2_relu (Activatio  (None, 19, 19, 128)  0          ['conv3_block1_2_bn[0][0]']      \n",
      " n)                                                                                               \n",
      "                                                                                                  \n",
      " conv3_block1_0_conv (Conv2D)   (None, 19, 19, 512)  131584      ['conv2_block3_out[0][0]']       \n",
      "                                                                                                  \n",
      " conv3_block1_3_conv (Conv2D)   (None, 19, 19, 512)  66048       ['conv3_block1_2_relu[0][0]']    \n",
      "                                                                                                  \n",
      " conv3_block1_0_bn (BatchNormal  (None, 19, 19, 512)  2048       ['conv3_block1_0_conv[0][0]']    \n",
      " ization)                                                                                         \n",
      "                                                                                                  \n",
      " conv3_block1_3_bn (BatchNormal  (None, 19, 19, 512)  2048       ['conv3_block1_3_conv[0][0]']    \n",
      " ization)                                                                                         \n",
      "                                                                                                  \n",
      " conv3_block1_add (Add)         (None, 19, 19, 512)  0           ['conv3_block1_0_bn[0][0]',      \n",
      "                                                                  'conv3_block1_3_bn[0][0]']      \n",
      "                                                                                                  \n",
      " conv3_block1_out (Activation)  (None, 19, 19, 512)  0           ['conv3_block1_add[0][0]']       \n",
      "                                                                                                  \n",
      " conv3_block2_1_conv (Conv2D)   (None, 19, 19, 128)  65664       ['conv3_block1_out[0][0]']       \n",
      "                                                                                                  \n",
      " conv3_block2_1_bn (BatchNormal  (None, 19, 19, 128)  512        ['conv3_block2_1_conv[0][0]']    \n",
      " ization)                                                                                         \n",
      "                                                                                                  \n",
      " conv3_block2_1_relu (Activatio  (None, 19, 19, 128)  0          ['conv3_block2_1_bn[0][0]']      \n",
      " n)                                                                                               \n",
      "                                                                                                  \n",
      " conv3_block2_2_conv (Conv2D)   (None, 19, 19, 128)  147584      ['conv3_block2_1_relu[0][0]']    \n",
      "                                                                                                  \n",
      " conv3_block2_2_bn (BatchNormal  (None, 19, 19, 128)  512        ['conv3_block2_2_conv[0][0]']    \n",
      " ization)                                                                                         \n",
      "                                                                                                  \n",
      " conv3_block2_2_relu (Activatio  (None, 19, 19, 128)  0          ['conv3_block2_2_bn[0][0]']      \n",
      " n)                                                                                               \n",
      "                                                                                                  \n",
      " conv3_block2_3_conv (Conv2D)   (None, 19, 19, 512)  66048       ['conv3_block2_2_relu[0][0]']    \n",
      "                                                                                                  \n",
      " conv3_block2_3_bn (BatchNormal  (None, 19, 19, 512)  2048       ['conv3_block2_3_conv[0][0]']    \n",
      " ization)                                                                                         \n",
      "                                                                                                  \n",
      " conv3_block2_add (Add)         (None, 19, 19, 512)  0           ['conv3_block1_out[0][0]',       \n",
      "                                                                  'conv3_block2_3_bn[0][0]']      \n",
      "                                                                                                  \n",
      " conv3_block2_out (Activation)  (None, 19, 19, 512)  0           ['conv3_block2_add[0][0]']       \n",
      "                                                                                                  \n",
      " conv3_block3_1_conv (Conv2D)   (None, 19, 19, 128)  65664       ['conv3_block2_out[0][0]']       \n",
      "                                                                                                  \n",
      " conv3_block3_1_bn (BatchNormal  (None, 19, 19, 128)  512        ['conv3_block3_1_conv[0][0]']    \n",
      " ization)                                                                                         \n",
      "                                                                                                  \n",
      " conv3_block3_1_relu (Activatio  (None, 19, 19, 128)  0          ['conv3_block3_1_bn[0][0]']      \n",
      " n)                                                                                               \n",
      "                                                                                                  \n"
     ]
    },
    {
     "name": "stdout",
     "output_type": "stream",
     "text": [
      " conv3_block3_2_conv (Conv2D)   (None, 19, 19, 128)  147584      ['conv3_block3_1_relu[0][0]']    \n",
      "                                                                                                  \n",
      " conv3_block3_2_bn (BatchNormal  (None, 19, 19, 128)  512        ['conv3_block3_2_conv[0][0]']    \n",
      " ization)                                                                                         \n",
      "                                                                                                  \n",
      " conv3_block3_2_relu (Activatio  (None, 19, 19, 128)  0          ['conv3_block3_2_bn[0][0]']      \n",
      " n)                                                                                               \n",
      "                                                                                                  \n",
      " conv3_block3_3_conv (Conv2D)   (None, 19, 19, 512)  66048       ['conv3_block3_2_relu[0][0]']    \n",
      "                                                                                                  \n",
      " conv3_block3_3_bn (BatchNormal  (None, 19, 19, 512)  2048       ['conv3_block3_3_conv[0][0]']    \n",
      " ization)                                                                                         \n",
      "                                                                                                  \n",
      " conv3_block3_add (Add)         (None, 19, 19, 512)  0           ['conv3_block2_out[0][0]',       \n",
      "                                                                  'conv3_block3_3_bn[0][0]']      \n",
      "                                                                                                  \n",
      " conv3_block3_out (Activation)  (None, 19, 19, 512)  0           ['conv3_block3_add[0][0]']       \n",
      "                                                                                                  \n",
      " conv3_block4_1_conv (Conv2D)   (None, 19, 19, 128)  65664       ['conv3_block3_out[0][0]']       \n",
      "                                                                                                  \n",
      " conv3_block4_1_bn (BatchNormal  (None, 19, 19, 128)  512        ['conv3_block4_1_conv[0][0]']    \n",
      " ization)                                                                                         \n",
      "                                                                                                  \n",
      " conv3_block4_1_relu (Activatio  (None, 19, 19, 128)  0          ['conv3_block4_1_bn[0][0]']      \n",
      " n)                                                                                               \n",
      "                                                                                                  \n",
      " conv3_block4_2_conv (Conv2D)   (None, 19, 19, 128)  147584      ['conv3_block4_1_relu[0][0]']    \n",
      "                                                                                                  \n",
      " conv3_block4_2_bn (BatchNormal  (None, 19, 19, 128)  512        ['conv3_block4_2_conv[0][0]']    \n",
      " ization)                                                                                         \n",
      "                                                                                                  \n",
      " conv3_block4_2_relu (Activatio  (None, 19, 19, 128)  0          ['conv3_block4_2_bn[0][0]']      \n",
      " n)                                                                                               \n",
      "                                                                                                  \n",
      " conv3_block4_3_conv (Conv2D)   (None, 19, 19, 512)  66048       ['conv3_block4_2_relu[0][0]']    \n",
      "                                                                                                  \n",
      " conv3_block4_3_bn (BatchNormal  (None, 19, 19, 512)  2048       ['conv3_block4_3_conv[0][0]']    \n",
      " ization)                                                                                         \n",
      "                                                                                                  \n",
      " conv3_block4_add (Add)         (None, 19, 19, 512)  0           ['conv3_block3_out[0][0]',       \n",
      "                                                                  'conv3_block4_3_bn[0][0]']      \n",
      "                                                                                                  \n",
      " conv3_block4_out (Activation)  (None, 19, 19, 512)  0           ['conv3_block4_add[0][0]']       \n",
      "                                                                                                  \n",
      " conv4_block1_1_conv (Conv2D)   (None, 10, 10, 256)  131328      ['conv3_block4_out[0][0]']       \n",
      "                                                                                                  \n",
      " conv4_block1_1_bn (BatchNormal  (None, 10, 10, 256)  1024       ['conv4_block1_1_conv[0][0]']    \n",
      " ization)                                                                                         \n",
      "                                                                                                  \n",
      " conv4_block1_1_relu (Activatio  (None, 10, 10, 256)  0          ['conv4_block1_1_bn[0][0]']      \n",
      " n)                                                                                               \n",
      "                                                                                                  \n",
      " conv4_block1_2_conv (Conv2D)   (None, 10, 10, 256)  590080      ['conv4_block1_1_relu[0][0]']    \n",
      "                                                                                                  \n",
      " conv4_block1_2_bn (BatchNormal  (None, 10, 10, 256)  1024       ['conv4_block1_2_conv[0][0]']    \n",
      " ization)                                                                                         \n",
      "                                                                                                  \n",
      " conv4_block1_2_relu (Activatio  (None, 10, 10, 256)  0          ['conv4_block1_2_bn[0][0]']      \n",
      " n)                                                                                               \n",
      "                                                                                                  \n",
      " conv4_block1_0_conv (Conv2D)   (None, 10, 10, 1024  525312      ['conv3_block4_out[0][0]']       \n",
      "                                )                                                                 \n",
      "                                                                                                  \n",
      " conv4_block1_3_conv (Conv2D)   (None, 10, 10, 1024  263168      ['conv4_block1_2_relu[0][0]']    \n",
      "                                )                                                                 \n",
      "                                                                                                  \n",
      " conv4_block1_0_bn (BatchNormal  (None, 10, 10, 1024  4096       ['conv4_block1_0_conv[0][0]']    \n",
      " ization)                       )                                                                 \n",
      "                                                                                                  \n",
      " conv4_block1_3_bn (BatchNormal  (None, 10, 10, 1024  4096       ['conv4_block1_3_conv[0][0]']    \n",
      " ization)                       )                                                                 \n",
      "                                                                                                  \n",
      " conv4_block1_add (Add)         (None, 10, 10, 1024  0           ['conv4_block1_0_bn[0][0]',      \n",
      "                                )                                 'conv4_block1_3_bn[0][0]']      \n",
      "                                                                                                  \n",
      " conv4_block1_out (Activation)  (None, 10, 10, 1024  0           ['conv4_block1_add[0][0]']       \n",
      "                                )                                                                 \n",
      "                                                                                                  \n",
      " conv4_block2_1_conv (Conv2D)   (None, 10, 10, 256)  262400      ['conv4_block1_out[0][0]']       \n",
      "                                                                                                  \n",
      " conv4_block2_1_bn (BatchNormal  (None, 10, 10, 256)  1024       ['conv4_block2_1_conv[0][0]']    \n",
      " ization)                                                                                         \n",
      "                                                                                                  \n"
     ]
    },
    {
     "name": "stdout",
     "output_type": "stream",
     "text": [
      " conv4_block2_1_relu (Activatio  (None, 10, 10, 256)  0          ['conv4_block2_1_bn[0][0]']      \n",
      " n)                                                                                               \n",
      "                                                                                                  \n",
      " conv4_block2_2_conv (Conv2D)   (None, 10, 10, 256)  590080      ['conv4_block2_1_relu[0][0]']    \n",
      "                                                                                                  \n",
      " conv4_block2_2_bn (BatchNormal  (None, 10, 10, 256)  1024       ['conv4_block2_2_conv[0][0]']    \n",
      " ization)                                                                                         \n",
      "                                                                                                  \n",
      " conv4_block2_2_relu (Activatio  (None, 10, 10, 256)  0          ['conv4_block2_2_bn[0][0]']      \n",
      " n)                                                                                               \n",
      "                                                                                                  \n",
      " conv4_block2_3_conv (Conv2D)   (None, 10, 10, 1024  263168      ['conv4_block2_2_relu[0][0]']    \n",
      "                                )                                                                 \n",
      "                                                                                                  \n",
      " conv4_block2_3_bn (BatchNormal  (None, 10, 10, 1024  4096       ['conv4_block2_3_conv[0][0]']    \n",
      " ization)                       )                                                                 \n",
      "                                                                                                  \n",
      " conv4_block2_add (Add)         (None, 10, 10, 1024  0           ['conv4_block1_out[0][0]',       \n",
      "                                )                                 'conv4_block2_3_bn[0][0]']      \n",
      "                                                                                                  \n",
      " conv4_block2_out (Activation)  (None, 10, 10, 1024  0           ['conv4_block2_add[0][0]']       \n",
      "                                )                                                                 \n",
      "                                                                                                  \n",
      " conv4_block3_1_conv (Conv2D)   (None, 10, 10, 256)  262400      ['conv4_block2_out[0][0]']       \n",
      "                                                                                                  \n",
      " conv4_block3_1_bn (BatchNormal  (None, 10, 10, 256)  1024       ['conv4_block3_1_conv[0][0]']    \n",
      " ization)                                                                                         \n",
      "                                                                                                  \n",
      " conv4_block3_1_relu (Activatio  (None, 10, 10, 256)  0          ['conv4_block3_1_bn[0][0]']      \n",
      " n)                                                                                               \n",
      "                                                                                                  \n",
      " conv4_block3_2_conv (Conv2D)   (None, 10, 10, 256)  590080      ['conv4_block3_1_relu[0][0]']    \n",
      "                                                                                                  \n",
      " conv4_block3_2_bn (BatchNormal  (None, 10, 10, 256)  1024       ['conv4_block3_2_conv[0][0]']    \n",
      " ization)                                                                                         \n",
      "                                                                                                  \n",
      " conv4_block3_2_relu (Activatio  (None, 10, 10, 256)  0          ['conv4_block3_2_bn[0][0]']      \n",
      " n)                                                                                               \n",
      "                                                                                                  \n",
      " conv4_block3_3_conv (Conv2D)   (None, 10, 10, 1024  263168      ['conv4_block3_2_relu[0][0]']    \n",
      "                                )                                                                 \n",
      "                                                                                                  \n",
      " conv4_block3_3_bn (BatchNormal  (None, 10, 10, 1024  4096       ['conv4_block3_3_conv[0][0]']    \n",
      " ization)                       )                                                                 \n",
      "                                                                                                  \n",
      " conv4_block3_add (Add)         (None, 10, 10, 1024  0           ['conv4_block2_out[0][0]',       \n",
      "                                )                                 'conv4_block3_3_bn[0][0]']      \n",
      "                                                                                                  \n",
      " conv4_block3_out (Activation)  (None, 10, 10, 1024  0           ['conv4_block3_add[0][0]']       \n",
      "                                )                                                                 \n",
      "                                                                                                  \n",
      " conv4_block4_1_conv (Conv2D)   (None, 10, 10, 256)  262400      ['conv4_block3_out[0][0]']       \n",
      "                                                                                                  \n",
      " conv4_block4_1_bn (BatchNormal  (None, 10, 10, 256)  1024       ['conv4_block4_1_conv[0][0]']    \n",
      " ization)                                                                                         \n",
      "                                                                                                  \n",
      " conv4_block4_1_relu (Activatio  (None, 10, 10, 256)  0          ['conv4_block4_1_bn[0][0]']      \n",
      " n)                                                                                               \n",
      "                                                                                                  \n",
      " conv4_block4_2_conv (Conv2D)   (None, 10, 10, 256)  590080      ['conv4_block4_1_relu[0][0]']    \n",
      "                                                                                                  \n",
      " conv4_block4_2_bn (BatchNormal  (None, 10, 10, 256)  1024       ['conv4_block4_2_conv[0][0]']    \n",
      " ization)                                                                                         \n",
      "                                                                                                  \n",
      " conv4_block4_2_relu (Activatio  (None, 10, 10, 256)  0          ['conv4_block4_2_bn[0][0]']      \n",
      " n)                                                                                               \n",
      "                                                                                                  \n",
      " conv4_block4_3_conv (Conv2D)   (None, 10, 10, 1024  263168      ['conv4_block4_2_relu[0][0]']    \n",
      "                                )                                                                 \n",
      "                                                                                                  \n",
      " conv4_block4_3_bn (BatchNormal  (None, 10, 10, 1024  4096       ['conv4_block4_3_conv[0][0]']    \n",
      " ization)                       )                                                                 \n",
      "                                                                                                  \n",
      " conv4_block4_add (Add)         (None, 10, 10, 1024  0           ['conv4_block3_out[0][0]',       \n",
      "                                )                                 'conv4_block4_3_bn[0][0]']      \n",
      "                                                                                                  \n",
      " conv4_block4_out (Activation)  (None, 10, 10, 1024  0           ['conv4_block4_add[0][0]']       \n",
      "                                )                                                                 \n",
      "                                                                                                  \n",
      " conv4_block5_1_conv (Conv2D)   (None, 10, 10, 256)  262400      ['conv4_block4_out[0][0]']       \n",
      "                                                                                                  \n",
      " conv4_block5_1_bn (BatchNormal  (None, 10, 10, 256)  1024       ['conv4_block5_1_conv[0][0]']    \n",
      " ization)                                                                                         \n"
     ]
    },
    {
     "name": "stdout",
     "output_type": "stream",
     "text": [
      "                                                                                                  \n",
      " conv4_block5_1_relu (Activatio  (None, 10, 10, 256)  0          ['conv4_block5_1_bn[0][0]']      \n",
      " n)                                                                                               \n",
      "                                                                                                  \n",
      " conv4_block5_2_conv (Conv2D)   (None, 10, 10, 256)  590080      ['conv4_block5_1_relu[0][0]']    \n",
      "                                                                                                  \n",
      " conv4_block5_2_bn (BatchNormal  (None, 10, 10, 256)  1024       ['conv4_block5_2_conv[0][0]']    \n",
      " ization)                                                                                         \n",
      "                                                                                                  \n",
      " conv4_block5_2_relu (Activatio  (None, 10, 10, 256)  0          ['conv4_block5_2_bn[0][0]']      \n",
      " n)                                                                                               \n",
      "                                                                                                  \n",
      " conv4_block5_3_conv (Conv2D)   (None, 10, 10, 1024  263168      ['conv4_block5_2_relu[0][0]']    \n",
      "                                )                                                                 \n",
      "                                                                                                  \n",
      " conv4_block5_3_bn (BatchNormal  (None, 10, 10, 1024  4096       ['conv4_block5_3_conv[0][0]']    \n",
      " ization)                       )                                                                 \n",
      "                                                                                                  \n",
      " conv4_block5_add (Add)         (None, 10, 10, 1024  0           ['conv4_block4_out[0][0]',       \n",
      "                                )                                 'conv4_block5_3_bn[0][0]']      \n",
      "                                                                                                  \n",
      " conv4_block5_out (Activation)  (None, 10, 10, 1024  0           ['conv4_block5_add[0][0]']       \n",
      "                                )                                                                 \n",
      "                                                                                                  \n",
      " conv4_block6_1_conv (Conv2D)   (None, 10, 10, 256)  262400      ['conv4_block5_out[0][0]']       \n",
      "                                                                                                  \n",
      " conv4_block6_1_bn (BatchNormal  (None, 10, 10, 256)  1024       ['conv4_block6_1_conv[0][0]']    \n",
      " ization)                                                                                         \n",
      "                                                                                                  \n",
      " conv4_block6_1_relu (Activatio  (None, 10, 10, 256)  0          ['conv4_block6_1_bn[0][0]']      \n",
      " n)                                                                                               \n",
      "                                                                                                  \n",
      " conv4_block6_2_conv (Conv2D)   (None, 10, 10, 256)  590080      ['conv4_block6_1_relu[0][0]']    \n",
      "                                                                                                  \n",
      " conv4_block6_2_bn (BatchNormal  (None, 10, 10, 256)  1024       ['conv4_block6_2_conv[0][0]']    \n",
      " ization)                                                                                         \n",
      "                                                                                                  \n",
      " conv4_block6_2_relu (Activatio  (None, 10, 10, 256)  0          ['conv4_block6_2_bn[0][0]']      \n",
      " n)                                                                                               \n",
      "                                                                                                  \n",
      " conv4_block6_3_conv (Conv2D)   (None, 10, 10, 1024  263168      ['conv4_block6_2_relu[0][0]']    \n",
      "                                )                                                                 \n",
      "                                                                                                  \n",
      " conv4_block6_3_bn (BatchNormal  (None, 10, 10, 1024  4096       ['conv4_block6_3_conv[0][0]']    \n",
      " ization)                       )                                                                 \n",
      "                                                                                                  \n",
      " conv4_block6_add (Add)         (None, 10, 10, 1024  0           ['conv4_block5_out[0][0]',       \n",
      "                                )                                 'conv4_block6_3_bn[0][0]']      \n",
      "                                                                                                  \n",
      " conv4_block6_out (Activation)  (None, 10, 10, 1024  0           ['conv4_block6_add[0][0]']       \n",
      "                                )                                                                 \n",
      "                                                                                                  \n",
      " conv5_block1_1_conv (Conv2D)   (None, 5, 5, 512)    524800      ['conv4_block6_out[0][0]']       \n",
      "                                                                                                  \n",
      " conv5_block1_1_bn (BatchNormal  (None, 5, 5, 512)   2048        ['conv5_block1_1_conv[0][0]']    \n",
      " ization)                                                                                         \n",
      "                                                                                                  \n",
      " conv5_block1_1_relu (Activatio  (None, 5, 5, 512)   0           ['conv5_block1_1_bn[0][0]']      \n",
      " n)                                                                                               \n",
      "                                                                                                  \n",
      " conv5_block1_2_conv (Conv2D)   (None, 5, 5, 512)    2359808     ['conv5_block1_1_relu[0][0]']    \n",
      "                                                                                                  \n",
      " conv5_block1_2_bn (BatchNormal  (None, 5, 5, 512)   2048        ['conv5_block1_2_conv[0][0]']    \n",
      " ization)                                                                                         \n",
      "                                                                                                  \n",
      " conv5_block1_2_relu (Activatio  (None, 5, 5, 512)   0           ['conv5_block1_2_bn[0][0]']      \n",
      " n)                                                                                               \n",
      "                                                                                                  \n",
      " conv5_block1_0_conv (Conv2D)   (None, 5, 5, 2048)   2099200     ['conv4_block6_out[0][0]']       \n",
      "                                                                                                  \n",
      " conv5_block1_3_conv (Conv2D)   (None, 5, 5, 2048)   1050624     ['conv5_block1_2_relu[0][0]']    \n",
      "                                                                                                  \n",
      " conv5_block1_0_bn (BatchNormal  (None, 5, 5, 2048)  8192        ['conv5_block1_0_conv[0][0]']    \n",
      " ization)                                                                                         \n",
      "                                                                                                  \n",
      " conv5_block1_3_bn (BatchNormal  (None, 5, 5, 2048)  8192        ['conv5_block1_3_conv[0][0]']    \n",
      " ization)                                                                                         \n",
      "                                                                                                  \n",
      " conv5_block1_add (Add)         (None, 5, 5, 2048)   0           ['conv5_block1_0_bn[0][0]',      \n",
      "                                                                  'conv5_block1_3_bn[0][0]']      \n",
      "                                                                                                  \n",
      " conv5_block1_out (Activation)  (None, 5, 5, 2048)   0           ['conv5_block1_add[0][0]']       \n",
      "                                                                                                  \n"
     ]
    },
    {
     "name": "stdout",
     "output_type": "stream",
     "text": [
      " conv5_block2_1_conv (Conv2D)   (None, 5, 5, 512)    1049088     ['conv5_block1_out[0][0]']       \n",
      "                                                                                                  \n",
      " conv5_block2_1_bn (BatchNormal  (None, 5, 5, 512)   2048        ['conv5_block2_1_conv[0][0]']    \n",
      " ization)                                                                                         \n",
      "                                                                                                  \n",
      " conv5_block2_1_relu (Activatio  (None, 5, 5, 512)   0           ['conv5_block2_1_bn[0][0]']      \n",
      " n)                                                                                               \n",
      "                                                                                                  \n",
      " conv5_block2_2_conv (Conv2D)   (None, 5, 5, 512)    2359808     ['conv5_block2_1_relu[0][0]']    \n",
      "                                                                                                  \n",
      " conv5_block2_2_bn (BatchNormal  (None, 5, 5, 512)   2048        ['conv5_block2_2_conv[0][0]']    \n",
      " ization)                                                                                         \n",
      "                                                                                                  \n",
      " conv5_block2_2_relu (Activatio  (None, 5, 5, 512)   0           ['conv5_block2_2_bn[0][0]']      \n",
      " n)                                                                                               \n",
      "                                                                                                  \n",
      " conv5_block2_3_conv (Conv2D)   (None, 5, 5, 2048)   1050624     ['conv5_block2_2_relu[0][0]']    \n",
      "                                                                                                  \n",
      " conv5_block2_3_bn (BatchNormal  (None, 5, 5, 2048)  8192        ['conv5_block2_3_conv[0][0]']    \n",
      " ization)                                                                                         \n",
      "                                                                                                  \n",
      " conv5_block2_add (Add)         (None, 5, 5, 2048)   0           ['conv5_block1_out[0][0]',       \n",
      "                                                                  'conv5_block2_3_bn[0][0]']      \n",
      "                                                                                                  \n",
      " conv5_block2_out (Activation)  (None, 5, 5, 2048)   0           ['conv5_block2_add[0][0]']       \n",
      "                                                                                                  \n",
      " conv5_block3_1_conv (Conv2D)   (None, 5, 5, 512)    1049088     ['conv5_block2_out[0][0]']       \n",
      "                                                                                                  \n",
      " conv5_block3_1_bn (BatchNormal  (None, 5, 5, 512)   2048        ['conv5_block3_1_conv[0][0]']    \n",
      " ization)                                                                                         \n",
      "                                                                                                  \n",
      " conv5_block3_1_relu (Activatio  (None, 5, 5, 512)   0           ['conv5_block3_1_bn[0][0]']      \n",
      " n)                                                                                               \n",
      "                                                                                                  \n",
      " conv5_block3_2_conv (Conv2D)   (None, 5, 5, 512)    2359808     ['conv5_block3_1_relu[0][0]']    \n",
      "                                                                                                  \n",
      " conv5_block3_2_bn (BatchNormal  (None, 5, 5, 512)   2048        ['conv5_block3_2_conv[0][0]']    \n",
      " ization)                                                                                         \n",
      "                                                                                                  \n",
      " conv5_block3_2_relu (Activatio  (None, 5, 5, 512)   0           ['conv5_block3_2_bn[0][0]']      \n",
      " n)                                                                                               \n",
      "                                                                                                  \n",
      " conv5_block3_3_conv (Conv2D)   (None, 5, 5, 2048)   1050624     ['conv5_block3_2_relu[0][0]']    \n",
      "                                                                                                  \n",
      " conv5_block3_3_bn (BatchNormal  (None, 5, 5, 2048)  8192        ['conv5_block3_3_conv[0][0]']    \n",
      " ization)                                                                                         \n",
      "                                                                                                  \n",
      " conv5_block3_add (Add)         (None, 5, 5, 2048)   0           ['conv5_block2_out[0][0]',       \n",
      "                                                                  'conv5_block3_3_bn[0][0]']      \n",
      "                                                                                                  \n",
      " conv5_block3_out (Activation)  (None, 5, 5, 2048)   0           ['conv5_block3_add[0][0]']       \n",
      "                                                                                                  \n",
      " avg_pool (GlobalAveragePooling  (None, 2048)        0           ['conv5_block3_out[0][0]']       \n",
      " 2D)                                                                                              \n",
      "                                                                                                  \n",
      " predictions (Dense)            (None, 11)           22539       ['avg_pool[0][0]']               \n",
      "                                                                                                  \n",
      "==================================================================================================\n",
      "Total params: 23,610,251\n",
      "Trainable params: 23,557,131\n",
      "Non-trainable params: 53,120\n",
      "__________________________________________________________________________________________________\n"
     ]
    }
   ],
   "source": [
    "# code v1\n",
    "# ResNet50 모델 사용\n",
    "# optimizer로 RMSprop 사용\n",
    "from tensorflow.keras.models import Sequential\n",
    "from tensorflow.keras.layers import Dense, Dropout, Flatten\n",
    "from tensorflow.keras import layers\n",
    "from tensorflow.keras.layers import Conv2D, MaxPooling2D\n",
    "from keras.applications import ResNet50\n",
    "from keras.callbacks import ModelCheckpoint, EarlyStopping\n",
    "\n",
    "# imagenet에 미리 훈련된 ResNet50 모델 불러오기\n",
    "model = ResNet50(weights=None,\n",
    "                 input_shape=(150, 150, 3), \n",
    "                 pooling=max, \n",
    "                 classes=11)\n",
    "\n",
    "\n",
    "model.summary()"
   ]
  },
  {
   "cell_type": "code",
   "execution_count": 9,
   "metadata": {},
   "outputs": [
    {
     "name": "stderr",
     "output_type": "stream",
     "text": [
      "C:\\Python\\Python310\\lib\\site-packages\\keras\\optimizers\\optimizer_v2\\rmsprop.py:140: UserWarning: The `lr` argument is deprecated, use `learning_rate` instead.\n",
      "  super().__init__(name, **kwargs)\n"
     ]
    }
   ],
   "source": [
    "from keras import optimizers\n",
    "\n",
    "model.compile(loss='categorical_crossentropy', optimizer=optimizers.RMSprop(lr=1e-4), metrics=['acc'])"
   ]
  },
  {
   "cell_type": "code",
   "execution_count": 10,
   "metadata": {},
   "outputs": [
    {
     "name": "stdout",
     "output_type": "stream",
     "text": [
      "Epoch 1/50\n",
      "80/80 [==============================] - 132s 2s/step - loss: 1.8891 - acc: 0.3594 - val_loss: 1.9696 - val_acc: 0.3650\n",
      "Epoch 2/50\n",
      "80/80 [==============================] - 124s 2s/step - loss: 1.7500 - acc: 0.3531 - val_loss: 2.0235 - val_acc: 0.3850\n",
      "Epoch 3/50\n",
      "80/80 [==============================] - 118s 1s/step - loss: 1.7769 - acc: 0.3594 - val_loss: 2.1481 - val_acc: 0.3900\n",
      "Epoch 4/50\n",
      "80/80 [==============================] - 121s 2s/step - loss: 1.7653 - acc: 0.3381 - val_loss: 2.2846 - val_acc: 0.0950\n",
      "Epoch 5/50\n",
      "80/80 [==============================] - 121s 2s/step - loss: 1.8189 - acc: 0.3275 - val_loss: 2.1423 - val_acc: 0.4150\n",
      "Epoch 6/50\n",
      "80/80 [==============================] - 122s 2s/step - loss: 1.7179 - acc: 0.3613 - val_loss: 2.0871 - val_acc: 0.1550\n",
      "Epoch 7/50\n",
      "80/80 [==============================] - 127s 2s/step - loss: 1.7827 - acc: 0.3413 - val_loss: 1.7741 - val_acc: 0.3800\n",
      "Epoch 8/50\n",
      "80/80 [==============================] - 133s 2s/step - loss: 1.7007 - acc: 0.3625 - val_loss: 2.1552 - val_acc: 0.4350\n",
      "Epoch 9/50\n",
      "80/80 [==============================] - 124s 2s/step - loss: 1.7325 - acc: 0.3619 - val_loss: 1.9231 - val_acc: 0.3200\n",
      "Epoch 10/50\n",
      "80/80 [==============================] - 121s 2s/step - loss: 1.7512 - acc: 0.3631 - val_loss: 1.9379 - val_acc: 0.2300\n",
      "Epoch 11/50\n",
      "80/80 [==============================] - 121s 2s/step - loss: 1.7064 - acc: 0.3694 - val_loss: 2.1349 - val_acc: 0.4050\n",
      "Epoch 12/50\n",
      "80/80 [==============================] - 116s 1s/step - loss: 1.7415 - acc: 0.3487 - val_loss: 2.4751 - val_acc: 0.2550\n",
      "Epoch 13/50\n",
      "80/80 [==============================] - 117s 1s/step - loss: 1.7020 - acc: 0.3406 - val_loss: 2.1467 - val_acc: 0.2800\n",
      "Epoch 14/50\n",
      "80/80 [==============================] - 117s 1s/step - loss: 1.7021 - acc: 0.3613 - val_loss: 1.7348 - val_acc: 0.3600\n",
      "Epoch 15/50\n",
      "80/80 [==============================] - 116s 1s/step - loss: 1.7471 - acc: 0.3606 - val_loss: 2.4499 - val_acc: 0.3950\n",
      "Epoch 16/50\n",
      "80/80 [==============================] - 120s 2s/step - loss: 1.7415 - acc: 0.3562 - val_loss: 2.3676 - val_acc: 0.4050\n",
      "Epoch 17/50\n",
      "80/80 [==============================] - 125s 2s/step - loss: 1.6872 - acc: 0.3575 - val_loss: 1.9051 - val_acc: 0.2650\n",
      "Epoch 18/50\n",
      "80/80 [==============================] - 124s 2s/step - loss: 1.7412 - acc: 0.3431 - val_loss: 1.9161 - val_acc: 0.2450\n",
      "Epoch 19/50\n",
      "80/80 [==============================] - 120s 1s/step - loss: 1.7049 - acc: 0.3562 - val_loss: 1.9191 - val_acc: 0.3450\n",
      "Epoch 20/50\n",
      "80/80 [==============================] - 119s 1s/step - loss: 1.7192 - acc: 0.3569 - val_loss: 1.9363 - val_acc: 0.3100\n",
      "Epoch 21/50\n",
      "80/80 [==============================] - 117s 1s/step - loss: 1.7587 - acc: 0.3381 - val_loss: 2.8423 - val_acc: 0.2350\n",
      "Epoch 22/50\n",
      "80/80 [==============================] - 117s 1s/step - loss: 1.6753 - acc: 0.3675 - val_loss: 2.2299 - val_acc: 0.2100\n",
      "Epoch 23/50\n",
      "80/80 [==============================] - 121s 2s/step - loss: 1.6985 - acc: 0.3506 - val_loss: 1.9090 - val_acc: 0.2450\n",
      "Epoch 24/50\n",
      "80/80 [==============================] - 121s 2s/step - loss: 1.6950 - acc: 0.3562 - val_loss: 1.8790 - val_acc: 0.3650\n",
      "Epoch 25/50\n",
      "80/80 [==============================] - 121s 2s/step - loss: 1.7103 - acc: 0.3800 - val_loss: 1.8076 - val_acc: 0.3350\n",
      "Epoch 26/50\n",
      "80/80 [==============================] - 121s 2s/step - loss: 1.7189 - acc: 0.3675 - val_loss: 1.8270 - val_acc: 0.2900\n",
      "Epoch 27/50\n",
      "80/80 [==============================] - 117s 1s/step - loss: 1.6955 - acc: 0.3613 - val_loss: 1.9680 - val_acc: 0.3800\n",
      "Epoch 28/50\n",
      "80/80 [==============================] - 116s 1s/step - loss: 1.7119 - acc: 0.3500 - val_loss: 1.9341 - val_acc: 0.3750\n",
      "Epoch 29/50\n",
      "80/80 [==============================] - 116s 1s/step - loss: 1.7299 - acc: 0.3506 - val_loss: 2.2765 - val_acc: 0.2350\n",
      "Epoch 30/50\n",
      "80/80 [==============================] - 116s 1s/step - loss: 1.6894 - acc: 0.3769 - val_loss: 1.9614 - val_acc: 0.2850\n",
      "Epoch 31/50\n",
      "80/80 [==============================] - 122s 2s/step - loss: 1.7005 - acc: 0.3600 - val_loss: 1.9638 - val_acc: 0.2800\n",
      "Epoch 32/50\n",
      "80/80 [==============================] - 122s 2s/step - loss: 1.6876 - acc: 0.3544 - val_loss: 2.0963 - val_acc: 0.3550\n",
      "Epoch 33/50\n",
      "80/80 [==============================] - 123s 2s/step - loss: 1.7330 - acc: 0.3350 - val_loss: 1.8087 - val_acc: 0.3550\n",
      "Epoch 34/50\n",
      "80/80 [==============================] - 122s 2s/step - loss: 1.6771 - acc: 0.3725 - val_loss: 1.7652 - val_acc: 0.4350\n",
      "Epoch 35/50\n",
      "80/80 [==============================] - 117s 1s/step - loss: 1.7120 - acc: 0.3475 - val_loss: 1.6473 - val_acc: 0.3950\n",
      "Epoch 36/50\n",
      "80/80 [==============================] - 117s 1s/step - loss: 1.6805 - acc: 0.3600 - val_loss: 1.8169 - val_acc: 0.3150\n",
      "Epoch 37/50\n",
      "80/80 [==============================] - 118s 1s/step - loss: 1.7171 - acc: 0.3550 - val_loss: 2.0219 - val_acc: 0.2500\n",
      "Epoch 38/50\n",
      "80/80 [==============================] - 121s 2s/step - loss: 1.6663 - acc: 0.3688 - val_loss: 2.3132 - val_acc: 0.2300\n",
      "Epoch 39/50\n",
      "80/80 [==============================] - 123s 2s/step - loss: 1.7142 - acc: 0.3731 - val_loss: 2.1743 - val_acc: 0.2900\n",
      "Epoch 40/50\n",
      "80/80 [==============================] - 117s 1s/step - loss: 1.7075 - acc: 0.3656 - val_loss: 1.8707 - val_acc: 0.3450\n",
      "Epoch 41/50\n",
      "80/80 [==============================] - 117s 1s/step - loss: 1.7088 - acc: 0.3631 - val_loss: 1.8883 - val_acc: 0.3950\n",
      "Epoch 42/50\n",
      "80/80 [==============================] - 117s 1s/step - loss: 1.7006 - acc: 0.3731 - val_loss: 1.8737 - val_acc: 0.2950\n",
      "Epoch 43/50\n",
      "80/80 [==============================] - 123s 2s/step - loss: 1.6741 - acc: 0.3681 - val_loss: 1.7763 - val_acc: 0.4400\n",
      "Epoch 44/50\n",
      "80/80 [==============================] - 122s 2s/step - loss: 1.6761 - acc: 0.3562 - val_loss: 1.6123 - val_acc: 0.4250\n",
      "Epoch 45/50\n",
      "80/80 [==============================] - 121s 2s/step - loss: 1.6502 - acc: 0.3806 - val_loss: 1.7828 - val_acc: 0.3250\n",
      "Epoch 46/50\n",
      "80/80 [==============================] - 124s 2s/step - loss: 1.6808 - acc: 0.3663 - val_loss: 1.6133 - val_acc: 0.3800\n",
      "Epoch 47/50\n",
      "80/80 [==============================] - 122s 2s/step - loss: 1.6578 - acc: 0.3506 - val_loss: 2.1376 - val_acc: 0.2800\n",
      "Epoch 48/50\n",
      "80/80 [==============================] - 122s 2s/step - loss: 1.6869 - acc: 0.3394 - val_loss: 1.7989 - val_acc: 0.2850\n",
      "Epoch 49/50\n",
      "80/80 [==============================] - 132s 2s/step - loss: 1.6502 - acc: 0.3900 - val_loss: 2.3332 - val_acc: 0.2800\n",
      "Epoch 50/50\n",
      "80/80 [==============================] - 130s 2s/step - loss: 1.6753 - acc: 0.3762 - val_loss: 1.7201 - val_acc: 0.4150\n"
     ]
    }
   ],
   "source": [
    "history = model.fit(train_generator,\n",
    "                              steps_per_epoch=80,\n",
    "                              epochs=50,\n",
    "                              validation_data=validation_generator,\n",
    "                              validation_steps=10)"
   ]
  },
  {
   "cell_type": "code",
   "execution_count": 11,
   "metadata": {},
   "outputs": [
    {
     "name": "stdout",
     "output_type": "stream",
     "text": [
      "[0.36500000953674316, 0.38499999046325684, 0.38999998569488525, 0.0949999988079071, 0.41499999165534973, 0.1550000011920929, 0.3799999952316284, 0.4350000023841858, 0.3199999928474426, 0.23000000417232513, 0.4050000011920929, 0.2549999952316284, 0.2800000011920929, 0.36000001430511475, 0.39500001072883606, 0.4050000011920929, 0.26499998569488525, 0.24500000476837158, 0.3449999988079071, 0.3100000023841858, 0.23499999940395355, 0.20999999344348907, 0.24500000476837158, 0.36500000953674316, 0.33500000834465027, 0.28999999165534973, 0.3799999952316284, 0.375, 0.23499999940395355, 0.2849999964237213, 0.2800000011920929, 0.35499998927116394, 0.35499998927116394, 0.4350000023841858, 0.39500001072883606, 0.3149999976158142, 0.25, 0.23000000417232513, 0.28999999165534973, 0.3449999988079071, 0.39500001072883606, 0.29499998688697815, 0.4399999976158142, 0.42500001192092896, 0.32499998807907104, 0.3799999952316284, 0.2800000011920929, 0.2849999964237213, 0.2800000011920929, 0.41499999165534973]\n"
     ]
    },
    {
     "data": {
      "image/png": "[encoded data removed]",
      "text/plain": [
       "<Figure size 640x480 with 1 Axes>"
      ]
     },
     "metadata": {},
     "output_type": "display_data"
    },
    {
     "data": {
      "image/png": "[encoded data removed]",
      "text/plain": [
       "<Figure size 640x480 with 1 Axes>"
      ]
     },
     "metadata": {},
     "output_type": "display_data"
    }
   ],
   "source": [
    "import matplotlib.pyplot as plt\n",
    "\n",
    "acc = history.history['acc'] \n",
    "val_acc = history.history['val_acc'] \n",
    "loss = history.history['loss'] \n",
    "val_loss = history.history['val_loss']\n",
    "\n",
    "print(val_acc)\n",
    "\n",
    "epochs = range(1, len(acc) + 1)\n",
    "\n",
    "plt.plot(epochs, acc, 'bo', label='Training acc') \n",
    "plt.plot(epochs, val_acc, 'b', label='Validation acc') \n",
    "plt.title('Training and validation accuracy') \n",
    "plt.legend()\n",
    "\n",
    "plt.figure()\n",
    "\n",
    "plt.plot(epochs, loss, 'bo', label='Training loss') \n",
    "plt.plot(epochs, val_loss, 'b', label='Validation loss') \n",
    "plt.title('Training and validation loss') \n",
    "plt.legend()\n",
    "\n",
    "plt.show()"
   ]
  },
  {
   "cell_type": "markdown",
   "metadata": {
    "id": "Efuh0QPtj3GA"
   },
   "source": [
    "## (3) Second Model"
   ]
  },
  {
   "cell_type": "code",
   "execution_count": 12,
   "metadata": {
    "id": "rwh8KgwKB0fD"
   },
   "outputs": [
    {
     "name": "stdout",
     "output_type": "stream",
     "text": [
      "Model: \"sequential_1\"\n",
      "_________________________________________________________________\n",
      " Layer (type)                Output Shape              Param #   \n",
      "=================================================================\n",
      " conv2d_4 (Conv2D)           (None, 148, 148, 32)      896       \n",
      "                                                                 \n",
      " max_pooling2d_4 (MaxPooling  (None, 74, 74, 32)       0         \n",
      " 2D)                                                             \n",
      "                                                                 \n",
      " conv2d_5 (Conv2D)           (None, 72, 72, 64)        18496     \n",
      "                                                                 \n",
      " max_pooling2d_5 (MaxPooling  (None, 36, 36, 64)       0         \n",
      " 2D)                                                             \n",
      "                                                                 \n",
      " conv2d_6 (Conv2D)           (None, 34, 34, 128)       73856     \n",
      "                                                                 \n",
      " max_pooling2d_6 (MaxPooling  (None, 17, 17, 128)      0         \n",
      " 2D)                                                             \n",
      "                                                                 \n",
      " conv2d_7 (Conv2D)           (None, 15, 15, 128)       147584    \n",
      "                                                                 \n",
      " max_pooling2d_7 (MaxPooling  (None, 7, 7, 128)        0         \n",
      " 2D)                                                             \n",
      "                                                                 \n",
      " flatten_1 (Flatten)         (None, 6272)              0         \n",
      "                                                                 \n",
      " dense_2 (Dense)             (None, 512)               3211776   \n",
      "                                                                 \n",
      " dropout_1 (Dropout)         (None, 512)               0         \n",
      "                                                                 \n",
      " dense_3 (Dense)             (None, 11)                5643      \n",
      "                                                                 \n",
      "=================================================================\n",
      "Total params: 3,458,251\n",
      "Trainable params: 3,458,251\n",
      "Non-trainable params: 0\n",
      "_________________________________________________________________\n"
     ]
    }
   ],
   "source": [
    "# code v3\n",
    "# 일반 모델 사용\n",
    "# checkpoint 저장\n",
    "# early stop 사용\n",
    "# optimizer로 Adam 사용\n",
    "\n",
    "from tensorflow.keras.models import Sequential\n",
    "from tensorflow.keras.layers import Dense, Dropout, Flatten\n",
    "from tensorflow.keras import layers\n",
    "from tensorflow.keras.layers import Conv2D, MaxPooling2D\n",
    "from keras.applications import ResNet50\n",
    "from keras.callbacks import ModelCheckpoint, EarlyStopping\n",
    "\n",
    "\n",
    "checkpoint_path = os.path.join(base_dir, 'model_{epoch:02d}.hdf5')\n",
    "earlystop = EarlyStopping(monitor='val_loss', mode='min', verbose=1, patience=10)\n",
    "modelckpt = ModelCheckpoint(checkpoint_path, monitor='val_acc', verbose=1, save_best_only=True)\n",
    "callback = [earlystop, modelckpt]\n",
    "\n",
    "model = Sequential()\n",
    "\n",
    "model.add(layers.Conv2D(32, (3, 3), activation='relu', input_shape=(150, 150, 3))) \n",
    "model.add(layers.MaxPooling2D((2, 2))) \n",
    "model.add(layers.Conv2D(64, (3, 3), activation='relu')) \n",
    "model.add(layers.MaxPooling2D((2, 2))) \n",
    "model.add(layers.Conv2D(128, (3, 3), activation='relu')) \n",
    "model.add(layers.MaxPooling2D((2, 2))) \n",
    "model.add(layers.Conv2D(128, (3, 3), activation='relu')) \n",
    "model.add(layers.MaxPooling2D((2, 2))) \n",
    "\n",
    "model.add(Flatten())\n",
    "#완전 분류기 직전에 dropout 추가하기 (data augmentation 사용했기 때문)\n",
    "# model.add(Dropout(0.5))\n",
    "model.add(Dense(units=512, activation=\"relu\"))\n",
    "model.add(Dropout(0.5))\n",
    "# 마지막 dense layer의 크기는 class 개수와 같아야 함\n",
    "model.add(Dense(units=11, activation=\"softmax\"))\n",
    "\n",
    "model.summary()"
   ]
  },
  {
   "cell_type": "code",
   "execution_count": 13,
   "metadata": {},
   "outputs": [
    {
     "name": "stderr",
     "output_type": "stream",
     "text": [
      "C:\\Python\\Python310\\lib\\site-packages\\keras\\optimizers\\optimizer_v2\\adam.py:114: UserWarning: The `lr` argument is deprecated, use `learning_rate` instead.\n",
      "  super().__init__(name, **kwargs)\n"
     ]
    }
   ],
   "source": [
    "from tensorflow.keras import optimizers\n",
    "\n",
    "model.compile(loss=\"categorical_crossentropy\",\n",
    "              optimizer=optimizers.Adam(lr=1e-4),\n",
    "              metrics=['acc'])\n"
   ]
  },
  {
   "cell_type": "code",
   "execution_count": 14,
   "metadata": {},
   "outputs": [
    {
     "name": "stdout",
     "output_type": "stream",
     "text": [
      "Epoch 1/50\n",
      "48/48 [==============================] - ETA: 0s - loss: 1.8451 - acc: 0.3615\n",
      "Epoch 1: val_acc improved from -inf to 0.40000, saving model to C:\\Users\\master\\Desktop\\ai_project\\model_01.hdf5\n",
      "48/48 [==============================] - 17s 345ms/step - loss: 1.8451 - acc: 0.3615 - val_loss: 1.7026 - val_acc: 0.4000\n",
      "Epoch 2/50\n",
      "48/48 [==============================] - ETA: 0s - loss: 1.7483 - acc: 0.3542\n",
      "Epoch 2: val_acc did not improve from 0.40000\n",
      "48/48 [==============================] - 16s 335ms/step - loss: 1.7483 - acc: 0.3542 - val_loss: 1.7142 - val_acc: 0.3667\n",
      "Epoch 3/50\n",
      "48/48 [==============================] - ETA: 0s - loss: 1.7379 - acc: 0.3510\n",
      "Epoch 3: val_acc did not improve from 0.40000\n",
      "48/48 [==============================] - 16s 337ms/step - loss: 1.7379 - acc: 0.3510 - val_loss: 1.5411 - val_acc: 0.4000\n",
      "Epoch 4/50\n",
      "48/48 [==============================] - ETA: 0s - loss: 1.7083 - acc: 0.3792\n",
      "Epoch 4: val_acc improved from 0.40000 to 0.45000, saving model to C:\\Users\\master\\Desktop\\ai_project\\model_04.hdf5\n",
      "48/48 [==============================] - 16s 342ms/step - loss: 1.7083 - acc: 0.3792 - val_loss: 1.6380 - val_acc: 0.4500\n",
      "Epoch 5/50\n",
      "48/48 [==============================] - ETA: 0s - loss: 1.7011 - acc: 0.3635\n",
      "Epoch 5: val_acc did not improve from 0.45000\n",
      "48/48 [==============================] - 17s 345ms/step - loss: 1.7011 - acc: 0.3635 - val_loss: 1.6301 - val_acc: 0.4167\n",
      "Epoch 6/50\n",
      "48/48 [==============================] - ETA: 0s - loss: 1.7292 - acc: 0.3302\n",
      "Epoch 6: val_acc did not improve from 0.45000\n",
      "48/48 [==============================] - 17s 344ms/step - loss: 1.7292 - acc: 0.3302 - val_loss: 1.6667 - val_acc: 0.3750\n",
      "Epoch 7/50\n",
      "48/48 [==============================] - ETA: 0s - loss: 1.7339 - acc: 0.3583\n",
      "Epoch 7: val_acc did not improve from 0.45000\n",
      "48/48 [==============================] - 16s 333ms/step - loss: 1.7339 - acc: 0.3583 - val_loss: 1.7564 - val_acc: 0.3833\n",
      "Epoch 8/50\n",
      "48/48 [==============================] - ETA: 0s - loss: 1.6992 - acc: 0.3875\n",
      "Epoch 8: val_acc did not improve from 0.45000\n",
      "48/48 [==============================] - 16s 333ms/step - loss: 1.6992 - acc: 0.3875 - val_loss: 1.4894 - val_acc: 0.4417\n",
      "Epoch 9/50\n",
      "48/48 [==============================] - ETA: 0s - loss: 1.7063 - acc: 0.3792\n",
      "Epoch 9: val_acc did not improve from 0.45000\n",
      "48/48 [==============================] - 16s 339ms/step - loss: 1.7063 - acc: 0.3792 - val_loss: 1.6782 - val_acc: 0.4167\n",
      "Epoch 10/50\n",
      "48/48 [==============================] - ETA: 0s - loss: 1.6558 - acc: 0.3885\n",
      "Epoch 10: val_acc did not improve from 0.45000\n",
      "48/48 [==============================] - 16s 333ms/step - loss: 1.6558 - acc: 0.3885 - val_loss: 1.6275 - val_acc: 0.4500\n",
      "Epoch 11/50\n",
      "48/48 [==============================] - ETA: 0s - loss: 1.6632 - acc: 0.3979\n",
      "Epoch 11: val_acc did not improve from 0.45000\n",
      "48/48 [==============================] - 16s 339ms/step - loss: 1.6632 - acc: 0.3979 - val_loss: 1.7867 - val_acc: 0.3333\n",
      "Epoch 12/50\n",
      "48/48 [==============================] - ETA: 0s - loss: 1.6723 - acc: 0.3896\n",
      "Epoch 12: val_acc did not improve from 0.45000\n",
      "48/48 [==============================] - 16s 337ms/step - loss: 1.6723 - acc: 0.3896 - val_loss: 1.5550 - val_acc: 0.3833\n",
      "Epoch 13/50\n",
      "48/48 [==============================] - ETA: 0s - loss: 1.6801 - acc: 0.3792\n",
      "Epoch 13: val_acc did not improve from 0.45000\n",
      "48/48 [==============================] - 16s 334ms/step - loss: 1.6801 - acc: 0.3792 - val_loss: 1.6910 - val_acc: 0.3333\n",
      "Epoch 14/50\n",
      "48/48 [==============================] - ETA: 0s - loss: 1.7424 - acc: 0.3490\n",
      "Epoch 14: val_acc did not improve from 0.45000\n",
      "48/48 [==============================] - 16s 336ms/step - loss: 1.7424 - acc: 0.3490 - val_loss: 1.7793 - val_acc: 0.4167\n",
      "Epoch 15/50\n",
      "48/48 [==============================] - ETA: 0s - loss: 1.6802 - acc: 0.3833\n",
      "Epoch 15: val_acc did not improve from 0.45000\n",
      "48/48 [==============================] - 16s 338ms/step - loss: 1.6802 - acc: 0.3833 - val_loss: 1.6034 - val_acc: 0.3917\n",
      "Epoch 16/50\n",
      "48/48 [==============================] - ETA: 0s - loss: 1.6823 - acc: 0.3885\n",
      "Epoch 16: val_acc improved from 0.45000 to 0.46667, saving model to C:\\Users\\master\\Desktop\\ai_project\\model_16.hdf5\n",
      "48/48 [==============================] - 16s 339ms/step - loss: 1.6823 - acc: 0.3885 - val_loss: 1.5934 - val_acc: 0.4667\n",
      "Epoch 17/50\n",
      "48/48 [==============================] - ETA: 0s - loss: 1.6533 - acc: 0.4010\n",
      "Epoch 17: val_acc did not improve from 0.46667\n",
      "48/48 [==============================] - 16s 335ms/step - loss: 1.6533 - acc: 0.4010 - val_loss: 1.8654 - val_acc: 0.3250\n",
      "Epoch 18/50\n",
      "48/48 [==============================] - ETA: 0s - loss: 1.7038 - acc: 0.3573\n",
      "Epoch 18: val_acc did not improve from 0.46667\n",
      "48/48 [==============================] - 16s 336ms/step - loss: 1.7038 - acc: 0.3573 - val_loss: 1.7569 - val_acc: 0.3833\n",
      "Epoch 18: early stopping\n"
     ]
    }
   ],
   "source": [
    "history = model.fit(train_generator,\n",
    "                              steps_per_epoch=48,\n",
    "                              epochs=50,\n",
    "                              validation_data=validation_generator,\n",
    "                              validation_steps=6,\n",
    "                              callbacks=[earlystop, modelckpt])"
   ]
  },
  {
   "cell_type": "code",
   "execution_count": 15,
   "metadata": {},
   "outputs": [
    {
     "name": "stdout",
     "output_type": "stream",
     "text": [
      "[0.4000000059604645, 0.36666667461395264, 0.4000000059604645, 0.44999998807907104, 0.4166666567325592, 0.375, 0.38333332538604736, 0.4416666626930237, 0.4166666567325592, 0.44999998807907104, 0.3333333432674408, 0.38333332538604736, 0.3333333432674408, 0.4166666567325592, 0.3916666805744171, 0.46666666865348816, 0.32499998807907104, 0.38333332538604736]\n"
     ]
    },
    {
     "data": {
      "image/png": "[encoded data removed]",
      "text/plain": [
       "<Figure size 640x480 with 1 Axes>"
      ]
     },
     "metadata": {},
     "output_type": "display_data"
    },
    {
     "data": {
      "image/png": "[encoded data removed]",
      "text/plain": [
       "<Figure size 640x480 with 1 Axes>"
      ]
     },
     "metadata": {},
     "output_type": "display_data"
    }
   ],
   "source": [
    "import matplotlib.pyplot as plt\n",
    "\n",
    "acc = history.history['acc'] \n",
    "val_acc = history.history['val_acc'] \n",
    "loss = history.history['loss'] \n",
    "val_loss = history.history['val_loss']\n",
    "\n",
    "print(val_acc)\n",
    "\n",
    "epochs = range(1, len(acc) + 1)\n",
    "\n",
    "plt.plot(epochs, acc, 'bo', label='Training acc') \n",
    "plt.plot(epochs, val_acc, 'b', label='Validation acc') \n",
    "plt.title('Training and validation accuracy') \n",
    "plt.legend()\n",
    "\n",
    "plt.figure()\n",
    "\n",
    "plt.plot(epochs, loss, 'bo', label='Training loss') \n",
    "plt.plot(epochs, val_loss, 'b', label='Validation loss') \n",
    "plt.title('Training and validation loss') \n",
    "plt.legend()\n",
    "\n",
    "plt.show()"
   ]
  },
  {
   "cell_type": "markdown",
   "metadata": {
    "id": "UoYZi89kjGqs"
   },
   "source": [
    "# 4. Result"
   ]
  },
  {
   "cell_type": "code",
   "execution_count": 16,
   "metadata": {
    "id": "UVwdQuHrjI4T"
   },
   "outputs": [
    {
     "name": "stdout",
     "output_type": "stream",
     "text": [
      "Found 13535 images belonging to 11 classes.\n",
      "677/677 [==============================] - 143s 211ms/step - loss: 1.6606 - acc: 0.3948\n"
     ]
    },
    {
     "data": {
      "text/plain": [
       "[1.660631537437439, 0.3948282301425934]"
      ]
     },
     "execution_count": 16,
     "metadata": {},
     "output_type": "execute_result"
    }
   ],
   "source": [
    "#test result\n",
    "# 저장된 가장 좋은 모델로 test data set evaluate\n",
    "\n",
    "test_datagen = ImageDataGenerator(rescale=1./255)\n",
    "\n",
    "\n",
    "test_generator = test_datagen.flow_from_directory(test_dir,\n",
    "                                                target_size=(150,150),\n",
    "                                                batch_size=20,\n",
    "                                                class_mode='categorical')\n",
    "\n",
    "model_path = os.path.join(base_dir, 'model_12.hdf5')\n",
    "model.load_weights(model_path)\n",
    "model.evaluate(test_generator)"
   ]
  },
  {
   "cell_type": "markdown",
   "metadata": {
    "id": "qkEnCG2xjJjz"
   },
   "source": [
    "# 5. Insight and Discussion"
   ]
  },
  {
   "cell_type": "markdown",
   "metadata": {
    "id": "Q33gLMq3-jzh"
   },
   "source": [
    "1. Compared to the large classification, which has a large difference in appearance, the performance of similar size cars be poor.  \n",
    "2. It is more difficult to classify because the image data is not the entire appearance of the cars but the appearance specific part data of car.\n",
    "3. Even for the same car model, image data taken at night or in different colors, so if it was gray-scaled, it would be better classified.\n",
    "4. If we use models that specialized in image classification (such as ResNet) more suitable for data, we could improve the performance."
   ]
  },
  {
   "cell_type": "markdown",
   "metadata": {
    "id": "ShgICkonjO-D"
   },
   "source": [
    "# 6. Reference"
   ]
  },
  {
   "cell_type": "markdown",
   "metadata": {
    "id": "_ieW2R-e79ge"
   },
   "source": [
    "[1] 김한겸, 안유림 외 6. (2021). 2-stage Classification Model of vehicles based on CNN Algorithm. ACK 2021 학술발표대회 논문집, 28(2)   \n",
    "[2] 김청화·박구만. (2019). A Study of Traffic Detection and Classification using Yolo, 한국방송미디어공학회 학술발표대회 논문집, 80-82.    \n",
    "[3] 안호연·이종택. (2018). Classification of vehicles based on Faster R-CNN suitable for use in actual road environments. 한국지능시스템학회 논문지 , 28(3): 210-218.    \n",
    "[4] 김정훈·최두현. (2019). Implementation of a Vehicle Traffic and Speed Estimation System Using Faster R-CNN. 한국통신학회논문지 , 44(9): 1754-1758.    \n",
    "[5] 정유석·정도영. (2020). Class 1·3 Vehicle Classification Using Deep Learning and Thermal Image. 한국ITS 학회논문지 , 19(6): 96-106.    \n",
    "[6] 이창복·조현종. (2020). Classification  of  car  models  using  deep  learning , 149-150.    \n",
    "[7] 이승주·박구만. (2020). Proposal for License Plate Recognition Using Synthetic Data and Vehicle Type Recognition System. 방송공학회논문지 , 25(5): 776-788.\n"
   ]
  }
 ],
 "metadata": {
  "colab": {
   "provenance": []
  },
  "kernelspec": {
   "display_name": "Python 3 (ipykernel)",
   "language": "python",
   "name": "python3"
  },
  "language_info": {
   "codemirror_mode": {
    "name": "ipython",
    "version": 3
   },
   "file_extension": ".py",
   "mimetype": "text/x-python",
   "name": "python",
   "nbconvert_exporter": "python",
   "pygments_lexer": "ipython3",
   "version": "3.10.7"
  }
 },
 "nbformat": 4,
 "nbformat_minor": 1
}
