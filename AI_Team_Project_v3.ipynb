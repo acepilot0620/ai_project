{
  "nbformat": 4,
  "nbformat_minor": 0,
  "metadata": {
    "colab": {
      "provenance": []
    },
    "kernelspec": {
      "name": "python3",
      "display_name": "Python 3"
    },
    "language_info": {
      "name": "python"
    }
  },
  "cells": [
    {
      "cell_type": "code",
      "source": [
        "import keras\n",
        "print(keras.__version__)"
      ],
      "metadata": {
        "colab": {
          "base_uri": "https://localhost:8080/"
        },
        "id": "prPQOdZGpDS8",
        "outputId": "82378aef-a3ef-4c7a-af91-75de8c40e95b"
      },
      "execution_count": null,
      "outputs": [
        {
          "output_type": "stream",
          "name": "stdout",
          "text": [
            "2.9.0\n"
          ]
        }
      ]
    },
    {
      "cell_type": "code",
      "source": [
        "!pip install --upgrade tensorflow"
      ],
      "metadata": {
        "colab": {
          "base_uri": "https://localhost:8080/",
          "height": 1000
        },
        "id": "v1YB0BD1pKZQ",
        "outputId": "be8ecc12-2c01-4c9b-cf9c-668e619d62fe"
      },
      "execution_count": null,
      "outputs": [
        {
          "output_type": "stream",
          "name": "stdout",
          "text": [
            "Looking in indexes: https://pypi.org/simple, https://us-python.pkg.dev/colab-wheels/public/simple/\n",
            "Requirement already satisfied: tensorflow in /usr/local/lib/python3.8/dist-packages (2.9.2)\n",
            "Collecting tensorflow\n",
            "  Downloading tensorflow-2.11.0-cp38-cp38-manylinux_2_17_x86_64.manylinux2014_x86_64.whl (588.3 MB)\n",
            "\u001b[K     |████████████████████████████████| 588.3 MB 18 kB/s \n",
            "\u001b[?25hRequirement already satisfied: protobuf<3.20,>=3.9.2 in /usr/local/lib/python3.8/dist-packages (from tensorflow) (3.19.6)\n",
            "Requirement already satisfied: tensorflow-io-gcs-filesystem>=0.23.1 in /usr/local/lib/python3.8/dist-packages (from tensorflow) (0.28.0)\n",
            "Requirement already satisfied: grpcio<2.0,>=1.24.3 in /usr/local/lib/python3.8/dist-packages (from tensorflow) (1.51.1)\n",
            "Requirement already satisfied: absl-py>=1.0.0 in /usr/local/lib/python3.8/dist-packages (from tensorflow) (1.3.0)\n",
            "Requirement already satisfied: h5py>=2.9.0 in /usr/local/lib/python3.8/dist-packages (from tensorflow) (3.1.0)\n",
            "Requirement already satisfied: astunparse>=1.6.0 in /usr/local/lib/python3.8/dist-packages (from tensorflow) (1.6.3)\n",
            "Requirement already satisfied: termcolor>=1.1.0 in /usr/local/lib/python3.8/dist-packages (from tensorflow) (2.1.1)\n",
            "Collecting tensorflow-estimator<2.12,>=2.11.0\n",
            "  Downloading tensorflow_estimator-2.11.0-py2.py3-none-any.whl (439 kB)\n",
            "\u001b[K     |████████████████████████████████| 439 kB 59.5 MB/s \n",
            "\u001b[?25hRequirement already satisfied: setuptools in /usr/local/lib/python3.8/dist-packages (from tensorflow) (57.4.0)\n",
            "Requirement already satisfied: six>=1.12.0 in /usr/local/lib/python3.8/dist-packages (from tensorflow) (1.15.0)\n",
            "Requirement already satisfied: numpy>=1.20 in /usr/local/lib/python3.8/dist-packages (from tensorflow) (1.21.6)\n",
            "Requirement already satisfied: libclang>=13.0.0 in /usr/local/lib/python3.8/dist-packages (from tensorflow) (14.0.6)\n",
            "Requirement already satisfied: opt-einsum>=2.3.2 in /usr/local/lib/python3.8/dist-packages (from tensorflow) (3.3.0)\n",
            "Requirement already satisfied: wrapt>=1.11.0 in /usr/local/lib/python3.8/dist-packages (from tensorflow) (1.14.1)\n",
            "Collecting flatbuffers>=2.0\n",
            "  Downloading flatbuffers-22.12.6-py2.py3-none-any.whl (26 kB)\n",
            "Collecting keras<2.12,>=2.11.0\n",
            "  Downloading keras-2.11.0-py2.py3-none-any.whl (1.7 MB)\n",
            "\u001b[K     |████████████████████████████████| 1.7 MB 46.6 MB/s \n",
            "\u001b[?25hRequirement already satisfied: packaging in /usr/local/lib/python3.8/dist-packages (from tensorflow) (21.3)\n",
            "Requirement already satisfied: gast<=0.4.0,>=0.2.1 in /usr/local/lib/python3.8/dist-packages (from tensorflow) (0.4.0)\n",
            "Collecting tensorboard<2.12,>=2.11\n",
            "  Downloading tensorboard-2.11.0-py3-none-any.whl (6.0 MB)\n",
            "\u001b[K     |████████████████████████████████| 6.0 MB 34.8 MB/s \n",
            "\u001b[?25hRequirement already satisfied: typing-extensions>=3.6.6 in /usr/local/lib/python3.8/dist-packages (from tensorflow) (4.4.0)\n",
            "Requirement already satisfied: google-pasta>=0.1.1 in /usr/local/lib/python3.8/dist-packages (from tensorflow) (0.2.0)\n",
            "Requirement already satisfied: wheel<1.0,>=0.23.0 in /usr/local/lib/python3.8/dist-packages (from astunparse>=1.6.0->tensorflow) (0.38.4)\n",
            "Requirement already satisfied: google-auth<3,>=1.6.3 in /usr/local/lib/python3.8/dist-packages (from tensorboard<2.12,>=2.11->tensorflow) (2.15.0)\n",
            "Requirement already satisfied: tensorboard-plugin-wit>=1.6.0 in /usr/local/lib/python3.8/dist-packages (from tensorboard<2.12,>=2.11->tensorflow) (1.8.1)\n",
            "Requirement already satisfied: werkzeug>=1.0.1 in /usr/local/lib/python3.8/dist-packages (from tensorboard<2.12,>=2.11->tensorflow) (1.0.1)\n",
            "Requirement already satisfied: requests<3,>=2.21.0 in /usr/local/lib/python3.8/dist-packages (from tensorboard<2.12,>=2.11->tensorflow) (2.23.0)\n",
            "Requirement already satisfied: markdown>=2.6.8 in /usr/local/lib/python3.8/dist-packages (from tensorboard<2.12,>=2.11->tensorflow) (3.4.1)\n",
            "Requirement already satisfied: tensorboard-data-server<0.7.0,>=0.6.0 in /usr/local/lib/python3.8/dist-packages (from tensorboard<2.12,>=2.11->tensorflow) (0.6.1)\n",
            "Requirement already satisfied: google-auth-oauthlib<0.5,>=0.4.1 in /usr/local/lib/python3.8/dist-packages (from tensorboard<2.12,>=2.11->tensorflow) (0.4.6)\n",
            "Requirement already satisfied: cachetools<6.0,>=2.0.0 in /usr/local/lib/python3.8/dist-packages (from google-auth<3,>=1.6.3->tensorboard<2.12,>=2.11->tensorflow) (5.2.0)\n",
            "Requirement already satisfied: pyasn1-modules>=0.2.1 in /usr/local/lib/python3.8/dist-packages (from google-auth<3,>=1.6.3->tensorboard<2.12,>=2.11->tensorflow) (0.2.8)\n",
            "Requirement already satisfied: rsa<5,>=3.1.4 in /usr/local/lib/python3.8/dist-packages (from google-auth<3,>=1.6.3->tensorboard<2.12,>=2.11->tensorflow) (4.9)\n",
            "Requirement already satisfied: requests-oauthlib>=0.7.0 in /usr/local/lib/python3.8/dist-packages (from google-auth-oauthlib<0.5,>=0.4.1->tensorboard<2.12,>=2.11->tensorflow) (1.3.1)\n",
            "Requirement already satisfied: importlib-metadata>=4.4 in /usr/local/lib/python3.8/dist-packages (from markdown>=2.6.8->tensorboard<2.12,>=2.11->tensorflow) (4.13.0)\n",
            "Requirement already satisfied: zipp>=0.5 in /usr/local/lib/python3.8/dist-packages (from importlib-metadata>=4.4->markdown>=2.6.8->tensorboard<2.12,>=2.11->tensorflow) (3.11.0)\n",
            "Requirement already satisfied: pyasn1<0.5.0,>=0.4.6 in /usr/local/lib/python3.8/dist-packages (from pyasn1-modules>=0.2.1->google-auth<3,>=1.6.3->tensorboard<2.12,>=2.11->tensorflow) (0.4.8)\n",
            "Requirement already satisfied: urllib3!=1.25.0,!=1.25.1,<1.26,>=1.21.1 in /usr/local/lib/python3.8/dist-packages (from requests<3,>=2.21.0->tensorboard<2.12,>=2.11->tensorflow) (1.24.3)\n",
            "Requirement already satisfied: idna<3,>=2.5 in /usr/local/lib/python3.8/dist-packages (from requests<3,>=2.21.0->tensorboard<2.12,>=2.11->tensorflow) (2.10)\n",
            "Requirement already satisfied: chardet<4,>=3.0.2 in /usr/local/lib/python3.8/dist-packages (from requests<3,>=2.21.0->tensorboard<2.12,>=2.11->tensorflow) (3.0.4)\n",
            "Requirement already satisfied: certifi>=2017.4.17 in /usr/local/lib/python3.8/dist-packages (from requests<3,>=2.21.0->tensorboard<2.12,>=2.11->tensorflow) (2022.9.24)\n",
            "Requirement already satisfied: oauthlib>=3.0.0 in /usr/local/lib/python3.8/dist-packages (from requests-oauthlib>=0.7.0->google-auth-oauthlib<0.5,>=0.4.1->tensorboard<2.12,>=2.11->tensorflow) (3.2.2)\n",
            "Requirement already satisfied: pyparsing!=3.0.5,>=2.0.2 in /usr/local/lib/python3.8/dist-packages (from packaging->tensorflow) (3.0.9)\n",
            "Installing collected packages: tensorflow-estimator, tensorboard, keras, flatbuffers, tensorflow\n",
            "  Attempting uninstall: tensorflow-estimator\n",
            "    Found existing installation: tensorflow-estimator 2.9.0\n",
            "    Uninstalling tensorflow-estimator-2.9.0:\n",
            "      Successfully uninstalled tensorflow-estimator-2.9.0\n",
            "  Attempting uninstall: tensorboard\n",
            "    Found existing installation: tensorboard 2.9.1\n",
            "    Uninstalling tensorboard-2.9.1:\n",
            "      Successfully uninstalled tensorboard-2.9.1\n",
            "  Attempting uninstall: keras\n",
            "    Found existing installation: keras 2.9.0\n",
            "    Uninstalling keras-2.9.0:\n",
            "      Successfully uninstalled keras-2.9.0\n",
            "  Attempting uninstall: flatbuffers\n",
            "    Found existing installation: flatbuffers 1.12\n",
            "    Uninstalling flatbuffers-1.12:\n",
            "      Successfully uninstalled flatbuffers-1.12\n",
            "  Attempting uninstall: tensorflow\n",
            "    Found existing installation: tensorflow 2.9.2\n",
            "    Uninstalling tensorflow-2.9.2:\n",
            "      Successfully uninstalled tensorflow-2.9.2\n",
            "Successfully installed flatbuffers-22.12.6 keras-2.11.0 tensorboard-2.11.0 tensorflow-2.11.0 tensorflow-estimator-2.11.0\n"
          ]
        },
        {
          "output_type": "display_data",
          "data": {
            "application/vnd.colab-display-data+json": {
              "pip_warning": {
                "packages": [
                  "flatbuffers",
                  "keras",
                  "tensorboard",
                  "tensorflow"
                ]
              }
            }
          },
          "metadata": {}
        }
      ]
    },
    {
      "cell_type": "code",
      "source": [
        "import keras\n",
        "print(keras.__version__)"
      ],
      "metadata": {
        "colab": {
          "base_uri": "https://localhost:8080/"
        },
        "id": "Ws36pC6MpM2o",
        "outputId": "d1e6ee4b-bdb4-4117-d2c2-f5a492171f03"
      },
      "execution_count": null,
      "outputs": [
        {
          "output_type": "stream",
          "name": "stdout",
          "text": [
            "2.11.0\n"
          ]
        }
      ]
    },
    {
      "cell_type": "code",
      "source": [
        "#1 zip 파일 압축 해제"
      ],
      "metadata": {
        "id": "NjSWHlcFSMMF"
      },
      "execution_count": null,
      "outputs": []
    },
    {
      "cell_type": "code",
      "source": [
        "# mount Google Drive\n",
        "from google.colab import drive\n",
        "drive.mount('/content/gdrive', force_remount=True)"
      ],
      "metadata": {
        "colab": {
          "base_uri": "https://localhost:8080/"
        },
        "id": "cHLroOORNw9S",
        "outputId": "65216e70-fb0a-4b26-88fb-c091cae56b63"
      },
      "execution_count": null,
      "outputs": [
        {
          "output_type": "stream",
          "name": "stdout",
          "text": [
            "Mounted at /content/gdrive\n"
          ]
        }
      ]
    },
    {
      "cell_type": "code",
      "source": [
        "# unzip\n",
        "import zipfile, os, shutil\n",
        "\n",
        "# After downloading, modifying google drive path\n",
        "# /content/gdrive/MyDrive/2022-2/AI/assignment2\n",
        "dataset = '/content/gdrive/MyDrive/2022-2/AI/Team Project/image.zip'\n",
        "dst_path = '/content/gdrive/MyDrive/2022-2/AI/Team Project/Image'\n",
        "dst_file = os.path.join(dst_path, 'image.zip')\n",
        "\n",
        "if not os.path.exists(dst_path):\n",
        "  os.makedirs(dst_path)\n",
        "\n",
        "# copy zip file\n",
        "shutil.copy(dataset, dst_file)\n",
        "  \n",
        "with zipfile.ZipFile(dst_file, 'r') as file:\n",
        "  file.extractall(dst_path)"
      ],
      "metadata": {
        "id": "SWCUDskBR50c",
        "colab": {
          "base_uri": "https://localhost:8080/"
        },
        "outputId": "bc802c41-80ea-4ec4-83fe-9392c560cccd"
      },
      "execution_count": null,
      "outputs": [
        {
          "output_type": "stream",
          "name": "stdout",
          "text": [
            "Mounted at /content/gdrive\n"
          ]
        }
      ]
    },
    {
      "cell_type": "code",
      "source": [
        "dst_path = '/content/gdrive/MyDrive/2022-2/AI/Team Project'"
      ],
      "metadata": {
        "id": "K4JVS-7XMZGH"
      },
      "execution_count": null,
      "outputs": []
    },
    {
      "cell_type": "code",
      "source": [
        "#2 training, validaiton, test data set 나누기"
      ],
      "metadata": {
        "id": "Uf5SJJB-mAZ0"
      },
      "execution_count": null,
      "outputs": []
    },
    {
      "cell_type": "code",
      "source": [
        "pip install split-folders"
      ],
      "metadata": {
        "colab": {
          "base_uri": "https://localhost:8080/"
        },
        "id": "HWO-F8f7g7sK",
        "outputId": "358c44d2-838b-4803-ba68-f2e0a14620b7"
      },
      "execution_count": null,
      "outputs": [
        {
          "output_type": "stream",
          "name": "stdout",
          "text": [
            "Looking in indexes: https://pypi.org/simple, https://us-python.pkg.dev/colab-wheels/public/simple/\n",
            "Collecting split-folders\n",
            "  Downloading split_folders-0.5.1-py3-none-any.whl (8.4 kB)\n",
            "Installing collected packages: split-folders\n",
            "Successfully installed split-folders-0.5.1\n"
          ]
        }
      ]
    },
    {
      "cell_type": "code",
      "source": [
        "import os"
      ],
      "metadata": {
        "id": "KFdGtnRYMxZc"
      },
      "execution_count": null,
      "outputs": []
    },
    {
      "cell_type": "code",
      "source": [
        "import splitfolders\n",
        "input_dest = os.path.join(dst_path,'input image')\n",
        "output_dest = os.path.join(dst_path, 'split image')\n",
        "splitfolders.ratio(input_dest, output=output_dest, seed=1200, ratio=(.8, .1, .1))"
      ],
      "metadata": {
        "id": "26SUIBnZyZE7",
        "colab": {
          "base_uri": "https://localhost:8080/"
        },
        "outputId": "d4632070-d9bb-40ac-a2bf-64aeb8e10413"
      },
      "execution_count": null,
      "outputs": [
        {
          "output_type": "stream",
          "name": "stderr",
          "text": [
            "Copying files: 1200 files [00:31, 38.54 files/s]\n"
          ]
        }
      ]
    },
    {
      "cell_type": "code",
      "source": [
        "train_dir = os.path.join(dst_path, 'split image/train')\n",
        "test_dir = os.path.join(dst_path, 'split image/test')\n",
        "val_dir = os.path.join(dst_path, 'split image/val')\n",
        "\n",
        "train_s_dir = os.path.join(train_dir, \"S-Class\")\n",
        "train_e_dir = os.path.join(train_dir, \"E-Class\")\n",
        "train_c_dir = os.path.join(train_dir, \"C-Class\")\n",
        "\n",
        "test_s_dir = os.path.join(test_dir, \"S-Class\")\n",
        "test_e_dir = os.path.join(test_dir, \"E-Class\")\n",
        "test_c_dir = os.path.join(test_dir, \"C-Class\")\n",
        "\n",
        "\n",
        "val_s_dir = os.path.join(val_dir, \"S-Class\")\n",
        "val_e_dir = os.path.join(val_dir, \"E-Class\")\n",
        "val_c_dir = os.path.join(val_dir, \"C-Class\")\n",
        "\n",
        "\n",
        "print('total training s images:', len(os.listdir(train_s_dir)))\n",
        "print('total training e images:', len(os.listdir(train_e_dir)))\n",
        "print('total training c images:', len(os.listdir(train_c_dir)))\n",
        "\n",
        "\n",
        "print('total validation s images:', len(os.listdir(val_s_dir)))\n",
        "print('total validation e images:', len(os.listdir(val_e_dir)))\n",
        "print('total validation c images:', len(os.listdir(val_c_dir)))\n",
        "\n",
        "\n",
        "print('total test s images:', len(os.listdir(test_s_dir)))\n",
        "print('total test e images:', len(os.listdir(test_e_dir)))\n",
        "print('total test c images:', len(os.listdir(test_c_dir)))"
      ],
      "metadata": {
        "colab": {
          "base_uri": "https://localhost:8080/"
        },
        "id": "KUpnj1WimMx4",
        "outputId": "0a8df4ee-fd62-4638-d0e4-56d78ba55c85"
      },
      "execution_count": null,
      "outputs": [
        {
          "output_type": "stream",
          "name": "stdout",
          "text": [
            "total training s images: 320\n",
            "total training e images: 320\n",
            "total training c images: 320\n",
            "total validation s images: 40\n",
            "total validation e images: 40\n",
            "total validation c images: 40\n",
            "total test s images: 40\n",
            "total test e images: 40\n",
            "total test c images: 40\n"
          ]
        }
      ]
    },
    {
      "cell_type": "code",
      "source": [
        "# 이미지 처리용 라이브러리\n",
        "from tensorflow.keras.preprocessing.image import ImageDataGenerator # 전처리\n",
        "\n",
        "# 0~1 사이값으로 픽셀값을 변환\n",
        "train_datagen = ImageDataGenerator(rescale=1./255)\n",
        "# train data에만 data augmentation 사용\n",
        "# train_datagen = ImageDataGenerator(rescale=1./255,\n",
        "                                #    rotation_range=40,\n",
        "                                #    width_shift_range=0.2,\n",
        "                                #    height_shift_range=0.2,\n",
        "                                #    shear_range=0.2,\n",
        "                                #    zoom_range=0.2,\n",
        "                                #    horizontal_flip=True,\n",
        "                                #    fill_mode='nearest')\n",
        "validation_datagen = ImageDataGenerator(rescale=1./255)\n",
        "\n",
        "# 이미지 전처리\n",
        "# 폴더에 있는 이미지를 전처리\n",
        "train_generator = train_datagen.flow_from_directory(train_dir,\n",
        "                                                    target_size=(150,150),\n",
        "                                                    batch_size=20,\n",
        "                                                    class_mode='categorical')\n",
        "\n",
        "validation_generator = validation_datagen.flow_from_directory(val_dir,\n",
        "                                                        target_size=(150,150),\n",
        "                                                        batch_size=20,\n",
        "                                                        class_mode='categorical')"
      ],
      "metadata": {
        "colab": {
          "base_uri": "https://localhost:8080/"
        },
        "id": "8Rk07Shzwdmf",
        "outputId": "4d7f4074-3b65-46cf-a888-b3b4af548fc5"
      },
      "execution_count": null,
      "outputs": [
        {
          "output_type": "stream",
          "name": "stdout",
          "text": [
            "Found 960 images belonging to 3 classes.\n",
            "Found 120 images belonging to 3 classes.\n"
          ]
        }
      ]
    },
    {
      "cell_type": "code",
      "source": [
        "print(train_generator.class_indices)\n",
        "print(validation_generator.class_indices)"
      ],
      "metadata": {
        "colab": {
          "base_uri": "https://localhost:8080/"
        },
        "id": "k6YK36JnQ1AU",
        "outputId": "109fa8f9-e3c4-4b31-c248-49ff143e8e24"
      },
      "execution_count": null,
      "outputs": [
        {
          "output_type": "stream",
          "name": "stdout",
          "text": [
            "{'C-Class': 0, 'E-Class': 1, 'S-Class': 2}\n",
            "{'C-Class': 0, 'E-Class': 1, 'S-Class': 2}\n"
          ]
        }
      ]
    },
    {
      "cell_type": "code",
      "source": [
        "from tensorflow.keras.models import Sequential\n",
        "from tensorflow.keras.layers import Dense, Dropout, Flatten\n",
        "from tensorflow.keras import layers\n",
        "from tensorflow.keras.layers import Conv2D, MaxPooling2D\n",
        "from keras.applications import ResNet50\n",
        "from keras.callbacks import ModelCheckpoint, EarlyStopping\n",
        "train_dir = os.path.join(dst_path, 'split image/train')\n",
        "\n",
        "checkpoint_path = os.path.join(dst_path, 'model_{epoch:02d}.hdf5')\n",
        "earlystop = EarlyStopping(monitor='val_loss', mode='min', verbose=1, patience=10)\n",
        "modelckpt = ModelCheckpoint(checkpoint_path, monitor='val_acc', verbose=1, save_best_only=True)\n",
        "# callback = [earlystop, modelckpt]\n",
        "\n",
        "# imagenet에 미리 훈련된 ResNet50 모델 불러오기\n",
        "# model = ResNet50(weights=None,\n",
        "#                  input_shape=(150, 150, 3), \n",
        "#                  pooling=max, \n",
        "#                  classes=3)\n",
        "\n",
        "model = Sequential()\n",
        "\n",
        "model.add(layers.Conv2D(32, (3, 3), activation='relu', input_shape=(150, 150, 3))) \n",
        "model.add(layers.MaxPooling2D((2, 2))) \n",
        "model.add(layers.Conv2D(64, (3, 3), activation='relu')) \n",
        "model.add(layers.MaxPooling2D((2, 2))) \n",
        "model.add(layers.Conv2D(128, (3, 3), activation='relu')) \n",
        "model.add(layers.MaxPooling2D((2, 2))) \n",
        "model.add(layers.Conv2D(128, (3, 3), activation='relu')) \n",
        "model.add(layers.MaxPooling2D((2, 2))) \n",
        "\n",
        "model.add(Flatten())\n",
        "#완전 분류기 직전에 dropout 추가하기 (data augmentation 사용했기 때문)\n",
        "# model.add(Dropout(0.5))\n",
        "model.add(Dense(units=512, activation=\"relu\"))\n",
        "model.add(Dropout(0.5))\n",
        "# 마지막 dense layer의 크기는 class 개수와 같아야 함\n",
        "model.add(Dense(units=3, activation=\"softmax\"))\n",
        "\n",
        "model.summary()"
      ],
      "metadata": {
        "colab": {
          "base_uri": "https://localhost:8080/"
        },
        "id": "S846H_wLQ4fD",
        "outputId": "499b1a00-9ece-4ffc-b6b8-7f03afc7bfab"
      },
      "execution_count": null,
      "outputs": [
        {
          "output_type": "stream",
          "name": "stdout",
          "text": [
            "Model: \"sequential_2\"\n",
            "_________________________________________________________________\n",
            " Layer (type)                Output Shape              Param #   \n",
            "=================================================================\n",
            " conv2d_8 (Conv2D)           (None, 148, 148, 32)      896       \n",
            "                                                                 \n",
            " max_pooling2d_8 (MaxPooling  (None, 74, 74, 32)       0         \n",
            " 2D)                                                             \n",
            "                                                                 \n",
            " conv2d_9 (Conv2D)           (None, 72, 72, 64)        18496     \n",
            "                                                                 \n",
            " max_pooling2d_9 (MaxPooling  (None, 36, 36, 64)       0         \n",
            " 2D)                                                             \n",
            "                                                                 \n",
            " conv2d_10 (Conv2D)          (None, 34, 34, 128)       73856     \n",
            "                                                                 \n",
            " max_pooling2d_10 (MaxPoolin  (None, 17, 17, 128)      0         \n",
            " g2D)                                                            \n",
            "                                                                 \n",
            " conv2d_11 (Conv2D)          (None, 15, 15, 128)       147584    \n",
            "                                                                 \n",
            " max_pooling2d_11 (MaxPoolin  (None, 7, 7, 128)        0         \n",
            " g2D)                                                            \n",
            "                                                                 \n",
            " flatten_2 (Flatten)         (None, 6272)              0         \n",
            "                                                                 \n",
            " dense_4 (Dense)             (None, 512)               3211776   \n",
            "                                                                 \n",
            " dropout_2 (Dropout)         (None, 512)               0         \n",
            "                                                                 \n",
            " dense_5 (Dense)             (None, 3)                 1539      \n",
            "                                                                 \n",
            "=================================================================\n",
            "Total params: 3,454,147\n",
            "Trainable params: 3,454,147\n",
            "Non-trainable params: 0\n",
            "_________________________________________________________________\n"
          ]
        }
      ]
    },
    {
      "cell_type": "code",
      "source": [
        "from tensorflow.keras import optimizers\n",
        "\n",
        "# model.compile(loss=\"categorical_crossentropy\",\n",
        "#               optimizer=optimizers.RMSprop(lr=1e-4),\n",
        "#               metrics=['acc'])\n",
        "\n",
        "model.compile(loss=\"categorical_crossentropy\",\n",
        "              optimizer=optimizers.Adam(lr=1e-4),\n",
        "              metrics=['acc'])\n",
        "\n",
        "# model1.compile(loss=\"categorical_crossentropy\", optimizer=\"adam\", metrics=[\"acc\"])\n"
      ],
      "metadata": {
        "colab": {
          "base_uri": "https://localhost:8080/"
        },
        "id": "tv7uwHVZRDuv",
        "outputId": "7f21285c-83e6-4ef7-9dd2-b4a171ed2985"
      },
      "execution_count": null,
      "outputs": [
        {
          "output_type": "stream",
          "name": "stderr",
          "text": [
            "/usr/local/lib/python3.8/dist-packages/keras/optimizers/optimizer_v2/adam.py:110: UserWarning: The `lr` argument is deprecated, use `learning_rate` instead.\n",
            "  super(Adam, self).__init__(name, **kwargs)\n"
          ]
        }
      ]
    },
    {
      "cell_type": "code",
      "source": [
        "# !! 데이터 수에 맞춰서 step 수 바꿔야 !!\n",
        "# steps_per_epoch = len(X_train)//batch_size\n",
        "# validation_steps = len(X_test)//batch_size # if you have validation data "
      ],
      "metadata": {
        "id": "VRf8YBF3F965"
      },
      "execution_count": null,
      "outputs": []
    },
    {
      "cell_type": "code",
      "source": [
        "# generator : 제너레이터를 설정\n",
        "# h1 = model1.fit_generator(generator=train_generator, epochs=10, validation_data=test_generator)\n",
        "history = model.fit_generator(generator=train_generator,\n",
        "                              steps_per_epoch=48,\n",
        "                              epochs=10,\n",
        "                              validation_data=validation_generator,\n",
        "                              validation_steps=6,\n",
        "                              callbacks=[earlystop, modelckpt])"
      ],
      "metadata": {
        "colab": {
          "base_uri": "https://localhost:8080/"
        },
        "id": "_j1SuLqdFtUu",
        "outputId": "1278f04f-6ea8-470d-ae37-d86426247c8a"
      },
      "execution_count": null,
      "outputs": [
        {
          "output_type": "stream",
          "name": "stderr",
          "text": [
            "<ipython-input-66-42ff569ce3d0>:3: UserWarning: `Model.fit_generator` is deprecated and will be removed in a future version. Please use `Model.fit`, which supports generators.\n",
            "  history = model.fit_generator(generator=train_generator,\n"
          ]
        },
        {
          "output_type": "stream",
          "name": "stdout",
          "text": [
            "Epoch 1/10\n",
            "48/48 [==============================] - ETA: 0s - loss: 1.0955 - acc: 0.3531\n",
            "Epoch 1: val_acc improved from -inf to 0.47500, saving model to /content/gdrive/MyDrive/2022-2/AI/Team Project/model_01.hdf5\n",
            "48/48 [==============================] - 78s 2s/step - loss: 1.0955 - acc: 0.3531 - val_loss: 1.0613 - val_acc: 0.4750\n",
            "Epoch 2/10\n",
            "48/48 [==============================] - ETA: 0s - loss: 1.0253 - acc: 0.4604\n",
            "Epoch 2: val_acc improved from 0.47500 to 0.54167, saving model to /content/gdrive/MyDrive/2022-2/AI/Team Project/model_02.hdf5\n",
            "48/48 [==============================] - 78s 2s/step - loss: 1.0253 - acc: 0.4604 - val_loss: 0.9444 - val_acc: 0.5417\n",
            "Epoch 3/10\n",
            "48/48 [==============================] - ETA: 0s - loss: 0.9551 - acc: 0.5031\n",
            "Epoch 3: val_acc improved from 0.54167 to 0.63333, saving model to /content/gdrive/MyDrive/2022-2/AI/Team Project/model_03.hdf5\n",
            "48/48 [==============================] - 76s 2s/step - loss: 0.9551 - acc: 0.5031 - val_loss: 0.8768 - val_acc: 0.6333\n",
            "Epoch 4/10\n",
            "48/48 [==============================] - ETA: 0s - loss: 0.8764 - acc: 0.5833\n",
            "Epoch 4: val_acc did not improve from 0.63333\n",
            "48/48 [==============================] - 78s 2s/step - loss: 0.8764 - acc: 0.5833 - val_loss: 0.8087 - val_acc: 0.6083\n",
            "Epoch 5/10\n",
            "48/48 [==============================] - ETA: 0s - loss: 0.8081 - acc: 0.6323\n",
            "Epoch 5: val_acc improved from 0.63333 to 0.64167, saving model to /content/gdrive/MyDrive/2022-2/AI/Team Project/model_05.hdf5\n",
            "48/48 [==============================] - 76s 2s/step - loss: 0.8081 - acc: 0.6323 - val_loss: 0.7834 - val_acc: 0.6417\n",
            "Epoch 6/10\n",
            "48/48 [==============================] - ETA: 0s - loss: 0.7447 - acc: 0.6635\n",
            "Epoch 6: val_acc improved from 0.64167 to 0.65833, saving model to /content/gdrive/MyDrive/2022-2/AI/Team Project/model_06.hdf5\n",
            "48/48 [==============================] - 78s 2s/step - loss: 0.7447 - acc: 0.6635 - val_loss: 0.7355 - val_acc: 0.6583\n",
            "Epoch 7/10\n",
            "48/48 [==============================] - ETA: 0s - loss: 0.6763 - acc: 0.7000\n",
            "Epoch 7: val_acc improved from 0.65833 to 0.70000, saving model to /content/gdrive/MyDrive/2022-2/AI/Team Project/model_07.hdf5\n",
            "48/48 [==============================] - 76s 2s/step - loss: 0.6763 - acc: 0.7000 - val_loss: 0.7073 - val_acc: 0.7000\n",
            "Epoch 8/10\n",
            "48/48 [==============================] - ETA: 0s - loss: 0.6292 - acc: 0.7375\n",
            "Epoch 8: val_acc improved from 0.70000 to 0.73333, saving model to /content/gdrive/MyDrive/2022-2/AI/Team Project/model_08.hdf5\n",
            "48/48 [==============================] - 79s 2s/step - loss: 0.6292 - acc: 0.7375 - val_loss: 0.6652 - val_acc: 0.7333\n",
            "Epoch 9/10\n",
            "48/48 [==============================] - ETA: 0s - loss: 0.5751 - acc: 0.7563\n",
            "Epoch 9: val_acc did not improve from 0.73333\n",
            "48/48 [==============================] - 77s 2s/step - loss: 0.5751 - acc: 0.7563 - val_loss: 0.6435 - val_acc: 0.7250\n",
            "Epoch 10/10\n",
            "48/48 [==============================] - ETA: 0s - loss: 0.5308 - acc: 0.7812\n",
            "Epoch 10: val_acc improved from 0.73333 to 0.74167, saving model to /content/gdrive/MyDrive/2022-2/AI/Team Project/model_10.hdf5\n",
            "48/48 [==============================] - 79s 2s/step - loss: 0.5308 - acc: 0.7812 - val_loss: 0.6399 - val_acc: 0.7417\n"
          ]
        }
      ]
    },
    {
      "cell_type": "code",
      "source": [
        "# import matplotlib.pyplot as plt\n",
        "\n",
        "# acc = h1.history[\"acc\"]\n",
        "# val_acc = h1.history[\"val_acc\"]\n",
        "\n",
        "# plt.plot(range(1, len(acc)+1), acc, label=\"train_acc\")\n",
        "# plt.plot(range(1, len(acc)+1), val_acc, label=\"test_acc\")\n",
        "# plt.legend()\n",
        "\n",
        "import matplotlib.pyplot as plt\n",
        "\n",
        "acc = history.history['acc'] \n",
        "val_acc = history.history['val_acc'] \n",
        "loss = history.history['loss'] \n",
        "val_loss = history.history['val_loss']\n",
        "\n",
        "epochs = range(1, len(acc) + 1)\n",
        "\n",
        "plt.plot(epochs, acc, 'bo', label='Training acc') \n",
        "plt.plot(epochs, val_acc, 'b', label='Validation acc') \n",
        "plt.title('Training and validation accuracy') \n",
        "plt.legend()\n",
        "\n",
        "plt.figure()\n",
        "\n",
        "plt.plot(epochs, loss, 'bo', label='Training loss') \n",
        "plt.plot(epochs, val_loss, 'b', label='Validation loss') \n",
        "plt.title('Training and validation loss') \n",
        "plt.legend()\n",
        "\n",
        "plt.show()"
      ],
      "metadata": {
        "colab": {
          "base_uri": "https://localhost:8080/",
          "height": 545
        },
        "id": "8Qc3n-HjRIb-",
        "outputId": "b7f7d554-38c6-4933-b432-55f546ffb596"
      },
      "execution_count": null,
      "outputs": [
        {
          "output_type": "display_data",
          "data": {
            "text/plain": [
              "<Figure size 432x288 with 1 Axes>"
            ],
            "image/png": "[encoded data removed]"
          },
          "metadata": {
            "needs_background": "light"
          }
        },
        {
          "output_type": "display_data",
          "data": {
            "text/plain": [
              "<Figure size 432x288 with 1 Axes>"
            ],
            "image/png": "[encoded data removed]"
          },
          "metadata": {
            "needs_background": "light"
          }
        }
      ]
    },
    {
      "cell_type": "code",
      "source": [
        "test_datagen = ImageDataGenerator(rescale=1./255)\n",
        "test_generator = test_datagen.flow_from_directory(test_dir,\n",
        "                                                target_size=(150,150),\n",
        "                                                batch_size=20,\n",
        "                                                class_mode='categorical')"
      ],
      "metadata": {
        "id": "cxPymrmBJgGy",
        "colab": {
          "base_uri": "https://localhost:8080/"
        },
        "outputId": "2e887fef-c69a-40f2-d693-3b6950ae1041"
      },
      "execution_count": null,
      "outputs": [
        {
          "output_type": "stream",
          "name": "stdout",
          "text": [
            "Found 120 images belonging to 3 classes.\n"
          ]
        }
      ]
    },
    {
      "cell_type": "code",
      "source": [
        "import tensorflow as tf\n",
        "# model_path에서 'model_{epoch:02d}.hdf5' <- 이 파일 명을 마지막 최적 model 파일 이름 명으로 변경해야 함! \n",
        "model_path = os.path.join(dst_path, 'model_10.hdf5')\n",
        "model.load_weights(model_path)\n",
        "model.evaluate(test_generator)\n",
        "\n",
        "\n",
        "\n",
        "# model_path = os.path.join(dst_path, 'best model')\n",
        "# # model.load_weights(model_path)\n",
        "# model = tf.saved_model.load(model_path)\n",
        "# model.predeict(test_generator)"
      ],
      "metadata": {
        "id": "mk91SFO4Q38C",
        "colab": {
          "base_uri": "https://localhost:8080/"
        },
        "outputId": "15240bb5-4435-46cc-ff47-95b11d917c9d"
      },
      "execution_count": null,
      "outputs": [
        {
          "output_type": "stream",
          "name": "stdout",
          "text": [
            "6/6 [==============================] - 5s 841ms/step - loss: 0.6920 - acc: 0.6583\n"
          ]
        },
        {
          "output_type": "execute_result",
          "data": {
            "text/plain": [
              "[0.6920291781425476, 0.6583333611488342]"
            ]
          },
          "metadata": {},
          "execution_count": 70
        }
      ]
    },
    {
      "cell_type": "code",
      "source": [],
      "metadata": {
        "id": "2jhPNeLXQ3r7"
      },
      "execution_count": null,
      "outputs": []
    }
  ]
}